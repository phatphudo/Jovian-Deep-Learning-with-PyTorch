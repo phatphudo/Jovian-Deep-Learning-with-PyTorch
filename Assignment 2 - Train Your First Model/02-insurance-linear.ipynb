{
 "cells": [
  {
   "cell_type": "markdown",
   "metadata": {
    "_cell_guid": "b1076dfc-b9ad-4769-8c92-a6c4dae69d19",
    "_uuid": "8f2839f25d086af736a60e9eeb907d3b93b6e0e5",
    "id": "cP1wmZgAyqJ3"
   },
   "source": [
    "# Insurance cost prediction using linear regression\n",
    "\n",
    "Make a submisson here: https://jovian.ai/learn/deep-learning-with-pytorch-zero-to-gans/assignment/assignment-2-train-your-first-model\n",
    "\n",
    "In this assignment we're going to use information like a person's age, sex, BMI, no. of children and smoking habit to predict the price of yearly medical bills. This kind of model is useful for insurance companies to determine the yearly insurance premium for a person. The dataset for this problem is taken from [Kaggle](https://www.kaggle.com/mirichoi0218/insurance).\n",
    "\n",
    "\n",
    "We will create a model with the following steps:\n",
    "1. Download and explore the dataset\n",
    "2. Prepare the dataset for training\n",
    "3. Create a linear regression model\n",
    "4. Train the model to fit the data\n",
    "5. Make predictions using the trained model\n",
    "\n",
    "\n",
    "This assignment builds upon the concepts from the first 2 lessons. It will help to review these Jupyter notebooks:\n",
    "- PyTorch basics: https://jovian.ai/aakashns/01-pytorch-basics\n",
    "- Linear Regression: https://jovian.ai/aakashns/02-linear-regression\n",
    "- Logistic Regression: https://jovian.ai/aakashns/03-logistic-regression\n",
    "- Linear regression (minimal): https://jovian.ai/aakashns/housing-linear-minimal\n",
    "- Logistic regression (minimal): https://jovian.ai/aakashns/mnist-logistic-minimal\n",
    "\n",
    "As you go through this notebook, you will find a **???** in certain places. Your job is to replace the **???** with appropriate code or values, to ensure that the notebook runs properly end-to-end . In some cases, you'll be required to choose some hyperparameters (learning rate, batch size etc.). Try to experiment with the hypeparameters to get the lowest loss.\n"
   ]
  },
  {
   "cell_type": "code",
   "execution_count": null,
   "metadata": {
    "id": "kmpUSwV8yqJ4"
   },
   "outputs": [],
   "source": [
    "# Uncomment and run the appropriate command for your operating system, if required\n",
    "\n",
    "# Linux / Binder\n",
    "# !pip install numpy matplotlib pandas torch==1.7.0+cpu torchvision==0.8.1+cpu torchaudio==0.7.0 -f https://download.pytorch.org/whl/torch_stable.html\n",
    "\n",
    "# Windows\n",
    "# !pip install numpy matplotlib pandas torch==1.7.0+cpu torchvision==0.8.1+cpu torchaudio==0.7.0 -f https://download.pytorch.org/whl/torch_stable.html\n",
    "\n",
    "# MacOS\n",
    "# !pip install numpy matplotlib pandas torch torchvision torchaudio"
   ]
  },
  {
   "cell_type": "code",
   "execution_count": 2,
   "metadata": {
    "executionInfo": {
     "elapsed": 6321,
     "status": "ok",
     "timestamp": 1644318192326,
     "user": {
      "displayName": "Phát Đỗ Phú",
      "photoUrl": "https://lh3.googleusercontent.com/a/default-user=s64",
      "userId": "05669844595672600645"
     },
     "user_tz": -420
    },
    "id": "Q_Zpu5dAyqJ5"
   },
   "outputs": [],
   "source": [
    "import torch\n",
    "import jovian\n",
    "import torchvision\n",
    "import torch.nn as nn\n",
    "import pandas as pd\n",
    "import matplotlib.pyplot as plt\n",
    "import torch.nn.functional as F\n",
    "from torchvision.datasets.utils import download_url\n",
    "from torch.utils.data import DataLoader, TensorDataset, random_split"
   ]
  },
  {
   "cell_type": "code",
   "execution_count": 33,
   "metadata": {
    "executionInfo": {
     "elapsed": 599,
     "status": "ok",
     "timestamp": 1644319364867,
     "user": {
      "displayName": "Phát Đỗ Phú",
      "photoUrl": "https://lh3.googleusercontent.com/a/default-user=s64",
      "userId": "05669844595672600645"
     },
     "user_tz": -420
    },
    "id": "gRO7L15UyqJ6"
   },
   "outputs": [],
   "source": [
    "project_name='02-insurance-linear-regression' # will be used by jovian.commit"
   ]
  },
  {
   "cell_type": "markdown",
   "metadata": {
    "id": "QZvVHagWyqJ6"
   },
   "source": [
    "## Step 1: Download and explore the data\n",
    "\n",
    "Let us begin by downloading the data. We'll use the `download_url` function from PyTorch to get the data as a CSV (comma-separated values) file. "
   ]
  },
  {
   "cell_type": "code",
   "execution_count": 3,
   "metadata": {
    "_cell_guid": "79c7e3d0-c299-4dcb-8224-4455121ee9b0",
    "_uuid": "d629ff2d2480ee46fbb7e2d37f6b5fab8052498a",
    "colab": {
     "base_uri": "https://localhost:8080/",
     "height": 86,
     "referenced_widgets": [
      "2c0d2c8d850140f0b1c80e92c189fc99",
      "d2402af33c2349e0a4299f8cf226a182",
      "e2080a7510f04ab8a9e14559a1303fea",
      "056a3478ad4a4c86a0c9bb382e974ac5",
      "87b50297e6da4158b2951d195f7d80e3",
      "971551b56b7f4ab688453a9f4ed30c04",
      "703733dba5e54782a23c0f7553d92d23",
      "f3b51fb204424f18973afbe9c4333525",
      "338051c3c2c34d62985547cc59177675",
      "5b1d772664fc456c9d3da39e17fba85b",
      "d2464b425bf84d8692eb6d11e1d730b9"
     ]
    },
    "executionInfo": {
     "elapsed": 1423,
     "status": "ok",
     "timestamp": 1644318193739,
     "user": {
      "displayName": "Phát Đỗ Phú",
      "photoUrl": "https://lh3.googleusercontent.com/a/default-user=s64",
      "userId": "05669844595672600645"
     },
     "user_tz": -420
    },
    "id": "9k-XYbgLyqJ8",
    "outputId": "82db7aaf-fa7b-4600-c85c-14b11b11383e"
   },
   "outputs": [
    {
     "name": "stdout",
     "output_type": "stream",
     "text": [
      "Downloading https://gist.githubusercontent.com/BirajCoder/5f068dfe759c1ea6bdfce9535acdb72d/raw/c84d84e3c80f93be67f6c069cbdc0195ec36acbd/insurance.csv to ./insurance.csv\n"
     ]
    },
    {
     "data": {
      "application/vnd.jupyter.widget-view+json": {
       "model_id": "2c0d2c8d850140f0b1c80e92c189fc99",
       "version_major": 2,
       "version_minor": 0
      },
      "text/plain": [
       "  0%|          | 0/54288 [00:00<?, ?it/s]"
      ]
     },
     "metadata": {},
     "output_type": "display_data"
    }
   ],
   "source": [
    "DATASET_URL = \"https://gist.github.com/BirajCoder/5f068dfe759c1ea6bdfce9535acdb72d/raw/c84d84e3c80f93be67f6c069cbdc0195ec36acbd/insurance.csv\"\n",
    "DATA_FILENAME = \"insurance.csv\"\n",
    "download_url(DATASET_URL, '.')"
   ]
  },
  {
   "cell_type": "markdown",
   "metadata": {
    "id": "4U1TKE7myqJ9"
   },
   "source": [
    "To load the dataset into memory, we'll use the `read_csv` function from the `pandas` library. The data will be loaded as a Pandas dataframe. See this short tutorial to learn more: https://data36.com/pandas-tutorial-1-basics-reading-data-files-dataframes-data-selection/"
   ]
  },
  {
   "cell_type": "code",
   "execution_count": 4,
   "metadata": {
    "colab": {
     "base_uri": "https://localhost:8080/",
     "height": 206
    },
    "executionInfo": {
     "elapsed": 18,
     "status": "ok",
     "timestamp": 1644318196052,
     "user": {
      "displayName": "Phát Đỗ Phú",
      "photoUrl": "https://lh3.googleusercontent.com/a/default-user=s64",
      "userId": "05669844595672600645"
     },
     "user_tz": -420
    },
    "id": "Wase18C0yqJ-",
    "outputId": "76fa47ef-3139-4932-974b-76383f3ec9f9"
   },
   "outputs": [
    {
     "data": {
      "text/html": [
       "\n",
       "  <div id=\"df-9d5406fd-9742-454c-bbe1-8349a516f593\">\n",
       "    <div class=\"colab-df-container\">\n",
       "      <div>\n",
       "<style scoped>\n",
       "    .dataframe tbody tr th:only-of-type {\n",
       "        vertical-align: middle;\n",
       "    }\n",
       "\n",
       "    .dataframe tbody tr th {\n",
       "        vertical-align: top;\n",
       "    }\n",
       "\n",
       "    .dataframe thead th {\n",
       "        text-align: right;\n",
       "    }\n",
       "</style>\n",
       "<table border=\"1\" class=\"dataframe\">\n",
       "  <thead>\n",
       "    <tr style=\"text-align: right;\">\n",
       "      <th></th>\n",
       "      <th>age</th>\n",
       "      <th>sex</th>\n",
       "      <th>bmi</th>\n",
       "      <th>children</th>\n",
       "      <th>smoker</th>\n",
       "      <th>region</th>\n",
       "      <th>charges</th>\n",
       "    </tr>\n",
       "  </thead>\n",
       "  <tbody>\n",
       "    <tr>\n",
       "      <th>0</th>\n",
       "      <td>19</td>\n",
       "      <td>female</td>\n",
       "      <td>27.900</td>\n",
       "      <td>0</td>\n",
       "      <td>yes</td>\n",
       "      <td>southwest</td>\n",
       "      <td>16884.92400</td>\n",
       "    </tr>\n",
       "    <tr>\n",
       "      <th>1</th>\n",
       "      <td>18</td>\n",
       "      <td>male</td>\n",
       "      <td>33.770</td>\n",
       "      <td>1</td>\n",
       "      <td>no</td>\n",
       "      <td>southeast</td>\n",
       "      <td>1725.55230</td>\n",
       "    </tr>\n",
       "    <tr>\n",
       "      <th>2</th>\n",
       "      <td>28</td>\n",
       "      <td>male</td>\n",
       "      <td>33.000</td>\n",
       "      <td>3</td>\n",
       "      <td>no</td>\n",
       "      <td>southeast</td>\n",
       "      <td>4449.46200</td>\n",
       "    </tr>\n",
       "    <tr>\n",
       "      <th>3</th>\n",
       "      <td>33</td>\n",
       "      <td>male</td>\n",
       "      <td>22.705</td>\n",
       "      <td>0</td>\n",
       "      <td>no</td>\n",
       "      <td>northwest</td>\n",
       "      <td>21984.47061</td>\n",
       "    </tr>\n",
       "    <tr>\n",
       "      <th>4</th>\n",
       "      <td>32</td>\n",
       "      <td>male</td>\n",
       "      <td>28.880</td>\n",
       "      <td>0</td>\n",
       "      <td>no</td>\n",
       "      <td>northwest</td>\n",
       "      <td>3866.85520</td>\n",
       "    </tr>\n",
       "  </tbody>\n",
       "</table>\n",
       "</div>\n",
       "      <button class=\"colab-df-convert\" onclick=\"convertToInteractive('df-9d5406fd-9742-454c-bbe1-8349a516f593')\"\n",
       "              title=\"Convert this dataframe to an interactive table.\"\n",
       "              style=\"display:none;\">\n",
       "        \n",
       "  <svg xmlns=\"http://www.w3.org/2000/svg\" height=\"24px\"viewBox=\"0 0 24 24\"\n",
       "       width=\"24px\">\n",
       "    <path d=\"M0 0h24v24H0V0z\" fill=\"none\"/>\n",
       "    <path d=\"M18.56 5.44l.94 2.06.94-2.06 2.06-.94-2.06-.94-.94-2.06-.94 2.06-2.06.94zm-11 1L8.5 8.5l.94-2.06 2.06-.94-2.06-.94L8.5 2.5l-.94 2.06-2.06.94zm10 10l.94 2.06.94-2.06 2.06-.94-2.06-.94-.94-2.06-.94 2.06-2.06.94z\"/><path d=\"M17.41 7.96l-1.37-1.37c-.4-.4-.92-.59-1.43-.59-.52 0-1.04.2-1.43.59L10.3 9.45l-7.72 7.72c-.78.78-.78 2.05 0 2.83L4 21.41c.39.39.9.59 1.41.59.51 0 1.02-.2 1.41-.59l7.78-7.78 2.81-2.81c.8-.78.8-2.07 0-2.86zM5.41 20L4 18.59l7.72-7.72 1.47 1.35L5.41 20z\"/>\n",
       "  </svg>\n",
       "      </button>\n",
       "      \n",
       "  <style>\n",
       "    .colab-df-container {\n",
       "      display:flex;\n",
       "      flex-wrap:wrap;\n",
       "      gap: 12px;\n",
       "    }\n",
       "\n",
       "    .colab-df-convert {\n",
       "      background-color: #E8F0FE;\n",
       "      border: none;\n",
       "      border-radius: 50%;\n",
       "      cursor: pointer;\n",
       "      display: none;\n",
       "      fill: #1967D2;\n",
       "      height: 32px;\n",
       "      padding: 0 0 0 0;\n",
       "      width: 32px;\n",
       "    }\n",
       "\n",
       "    .colab-df-convert:hover {\n",
       "      background-color: #E2EBFA;\n",
       "      box-shadow: 0px 1px 2px rgba(60, 64, 67, 0.3), 0px 1px 3px 1px rgba(60, 64, 67, 0.15);\n",
       "      fill: #174EA6;\n",
       "    }\n",
       "\n",
       "    [theme=dark] .colab-df-convert {\n",
       "      background-color: #3B4455;\n",
       "      fill: #D2E3FC;\n",
       "    }\n",
       "\n",
       "    [theme=dark] .colab-df-convert:hover {\n",
       "      background-color: #434B5C;\n",
       "      box-shadow: 0px 1px 3px 1px rgba(0, 0, 0, 0.15);\n",
       "      filter: drop-shadow(0px 1px 2px rgba(0, 0, 0, 0.3));\n",
       "      fill: #FFFFFF;\n",
       "    }\n",
       "  </style>\n",
       "\n",
       "      <script>\n",
       "        const buttonEl =\n",
       "          document.querySelector('#df-9d5406fd-9742-454c-bbe1-8349a516f593 button.colab-df-convert');\n",
       "        buttonEl.style.display =\n",
       "          google.colab.kernel.accessAllowed ? 'block' : 'none';\n",
       "\n",
       "        async function convertToInteractive(key) {\n",
       "          const element = document.querySelector('#df-9d5406fd-9742-454c-bbe1-8349a516f593');\n",
       "          const dataTable =\n",
       "            await google.colab.kernel.invokeFunction('convertToInteractive',\n",
       "                                                     [key], {});\n",
       "          if (!dataTable) return;\n",
       "\n",
       "          const docLinkHtml = 'Like what you see? Visit the ' +\n",
       "            '<a target=\"_blank\" href=https://colab.research.google.com/notebooks/data_table.ipynb>data table notebook</a>'\n",
       "            + ' to learn more about interactive tables.';\n",
       "          element.innerHTML = '';\n",
       "          dataTable['output_type'] = 'display_data';\n",
       "          await google.colab.output.renderOutput(dataTable, element);\n",
       "          const docLink = document.createElement('div');\n",
       "          docLink.innerHTML = docLinkHtml;\n",
       "          element.appendChild(docLink);\n",
       "        }\n",
       "      </script>\n",
       "    </div>\n",
       "  </div>\n",
       "  "
      ],
      "text/plain": [
       "   age     sex     bmi  children smoker     region      charges\n",
       "0   19  female  27.900         0    yes  southwest  16884.92400\n",
       "1   18    male  33.770         1     no  southeast   1725.55230\n",
       "2   28    male  33.000         3     no  southeast   4449.46200\n",
       "3   33    male  22.705         0     no  northwest  21984.47061\n",
       "4   32    male  28.880         0     no  northwest   3866.85520"
      ]
     },
     "execution_count": 4,
     "metadata": {},
     "output_type": "execute_result"
    }
   ],
   "source": [
    "dataframe_raw = pd.read_csv(DATA_FILENAME)\n",
    "dataframe_raw.head()"
   ]
  },
  {
   "cell_type": "markdown",
   "metadata": {
    "id": "78aGSWa9yqJ-"
   },
   "source": [
    "We're going to do a slight customization of the data, so that you every participant receives a slightly different version of the dataset. Fill in your name below as a string (enter at least 5 characters)"
   ]
  },
  {
   "cell_type": "code",
   "execution_count": 6,
   "metadata": {
    "executionInfo": {
     "elapsed": 729,
     "status": "ok",
     "timestamp": 1644318246822,
     "user": {
      "displayName": "Phát Đỗ Phú",
      "photoUrl": "https://lh3.googleusercontent.com/a/default-user=s64",
      "userId": "05669844595672600645"
     },
     "user_tz": -420
    },
    "id": "xCjtG1O4yqJ_"
   },
   "outputs": [],
   "source": [
    "your_name = 'phatphudo'"
   ]
  },
  {
   "cell_type": "markdown",
   "metadata": {
    "id": "7qjSYKMMyqJ_"
   },
   "source": [
    "The `customize_dataset` function will customize the dataset slightly using your name as a source of random numbers."
   ]
  },
  {
   "cell_type": "code",
   "execution_count": 7,
   "metadata": {
    "executionInfo": {
     "elapsed": 658,
     "status": "ok",
     "timestamp": 1644318249652,
     "user": {
      "displayName": "Phát Đỗ Phú",
      "photoUrl": "https://lh3.googleusercontent.com/a/default-user=s64",
      "userId": "05669844595672600645"
     },
     "user_tz": -420
    },
    "id": "R36Q0me_yqJ_"
   },
   "outputs": [],
   "source": [
    "def customize_dataset(dataframe_raw, rand_str):\n",
    "    dataframe = dataframe_raw.copy(deep=True)\n",
    "    # drop some rows\n",
    "    dataframe = dataframe.sample(int(0.95*len(dataframe)), random_state=int(ord(rand_str[0])))\n",
    "    # scale input\n",
    "    dataframe.bmi = dataframe.bmi * ord(rand_str[1])/100.\n",
    "    # scale target\n",
    "    dataframe.charges = dataframe.charges * ord(rand_str[2])/100.\n",
    "    # drop column\n",
    "    if ord(rand_str[3]) % 2 == 1:\n",
    "        dataframe = dataframe.drop(['region'], axis=1)\n",
    "    return dataframe"
   ]
  },
  {
   "cell_type": "code",
   "execution_count": 9,
   "metadata": {
    "colab": {
     "base_uri": "https://localhost:8080/",
     "height": 206
    },
    "executionInfo": {
     "elapsed": 608,
     "status": "ok",
     "timestamp": 1644318302644,
     "user": {
      "displayName": "Phát Đỗ Phú",
      "photoUrl": "https://lh3.googleusercontent.com/a/default-user=s64",
      "userId": "05669844595672600645"
     },
     "user_tz": -420
    },
    "id": "nRQEZVeSyqKA",
    "outputId": "dbf3af65-ec36-4877-ada8-9ebb7fe62eca"
   },
   "outputs": [
    {
     "data": {
      "text/html": [
       "\n",
       "  <div id=\"df-0b77962c-2956-4674-a205-2f88e5799964\">\n",
       "    <div class=\"colab-df-container\">\n",
       "      <div>\n",
       "<style scoped>\n",
       "    .dataframe tbody tr th:only-of-type {\n",
       "        vertical-align: middle;\n",
       "    }\n",
       "\n",
       "    .dataframe tbody tr th {\n",
       "        vertical-align: top;\n",
       "    }\n",
       "\n",
       "    .dataframe thead th {\n",
       "        text-align: right;\n",
       "    }\n",
       "</style>\n",
       "<table border=\"1\" class=\"dataframe\">\n",
       "  <thead>\n",
       "    <tr style=\"text-align: right;\">\n",
       "      <th></th>\n",
       "      <th>age</th>\n",
       "      <th>sex</th>\n",
       "      <th>bmi</th>\n",
       "      <th>children</th>\n",
       "      <th>smoker</th>\n",
       "      <th>region</th>\n",
       "      <th>charges</th>\n",
       "    </tr>\n",
       "  </thead>\n",
       "  <tbody>\n",
       "    <tr>\n",
       "      <th>13</th>\n",
       "      <td>56</td>\n",
       "      <td>female</td>\n",
       "      <td>41.4128</td>\n",
       "      <td>0</td>\n",
       "      <td>no</td>\n",
       "      <td>southeast</td>\n",
       "      <td>10757.996266</td>\n",
       "    </tr>\n",
       "    <tr>\n",
       "      <th>367</th>\n",
       "      <td>42</td>\n",
       "      <td>female</td>\n",
       "      <td>25.9844</td>\n",
       "      <td>2</td>\n",
       "      <td>no</td>\n",
       "      <td>northwest</td>\n",
       "      <td>7776.549316</td>\n",
       "    </tr>\n",
       "    <tr>\n",
       "      <th>623</th>\n",
       "      <td>18</td>\n",
       "      <td>male</td>\n",
       "      <td>34.8764</td>\n",
       "      <td>0</td>\n",
       "      <td>yes</td>\n",
       "      <td>northeast</td>\n",
       "      <td>33579.305430</td>\n",
       "    </tr>\n",
       "    <tr>\n",
       "      <th>1281</th>\n",
       "      <td>47</td>\n",
       "      <td>female</td>\n",
       "      <td>28.7508</td>\n",
       "      <td>2</td>\n",
       "      <td>yes</td>\n",
       "      <td>northwest</td>\n",
       "      <td>23799.627594</td>\n",
       "    </tr>\n",
       "    <tr>\n",
       "      <th>966</th>\n",
       "      <td>51</td>\n",
       "      <td>male</td>\n",
       "      <td>25.7868</td>\n",
       "      <td>2</td>\n",
       "      <td>yes</td>\n",
       "      <td>northwest</td>\n",
       "      <td>23248.361559</td>\n",
       "    </tr>\n",
       "  </tbody>\n",
       "</table>\n",
       "</div>\n",
       "      <button class=\"colab-df-convert\" onclick=\"convertToInteractive('df-0b77962c-2956-4674-a205-2f88e5799964')\"\n",
       "              title=\"Convert this dataframe to an interactive table.\"\n",
       "              style=\"display:none;\">\n",
       "        \n",
       "  <svg xmlns=\"http://www.w3.org/2000/svg\" height=\"24px\"viewBox=\"0 0 24 24\"\n",
       "       width=\"24px\">\n",
       "    <path d=\"M0 0h24v24H0V0z\" fill=\"none\"/>\n",
       "    <path d=\"M18.56 5.44l.94 2.06.94-2.06 2.06-.94-2.06-.94-.94-2.06-.94 2.06-2.06.94zm-11 1L8.5 8.5l.94-2.06 2.06-.94-2.06-.94L8.5 2.5l-.94 2.06-2.06.94zm10 10l.94 2.06.94-2.06 2.06-.94-2.06-.94-.94-2.06-.94 2.06-2.06.94z\"/><path d=\"M17.41 7.96l-1.37-1.37c-.4-.4-.92-.59-1.43-.59-.52 0-1.04.2-1.43.59L10.3 9.45l-7.72 7.72c-.78.78-.78 2.05 0 2.83L4 21.41c.39.39.9.59 1.41.59.51 0 1.02-.2 1.41-.59l7.78-7.78 2.81-2.81c.8-.78.8-2.07 0-2.86zM5.41 20L4 18.59l7.72-7.72 1.47 1.35L5.41 20z\"/>\n",
       "  </svg>\n",
       "      </button>\n",
       "      \n",
       "  <style>\n",
       "    .colab-df-container {\n",
       "      display:flex;\n",
       "      flex-wrap:wrap;\n",
       "      gap: 12px;\n",
       "    }\n",
       "\n",
       "    .colab-df-convert {\n",
       "      background-color: #E8F0FE;\n",
       "      border: none;\n",
       "      border-radius: 50%;\n",
       "      cursor: pointer;\n",
       "      display: none;\n",
       "      fill: #1967D2;\n",
       "      height: 32px;\n",
       "      padding: 0 0 0 0;\n",
       "      width: 32px;\n",
       "    }\n",
       "\n",
       "    .colab-df-convert:hover {\n",
       "      background-color: #E2EBFA;\n",
       "      box-shadow: 0px 1px 2px rgba(60, 64, 67, 0.3), 0px 1px 3px 1px rgba(60, 64, 67, 0.15);\n",
       "      fill: #174EA6;\n",
       "    }\n",
       "\n",
       "    [theme=dark] .colab-df-convert {\n",
       "      background-color: #3B4455;\n",
       "      fill: #D2E3FC;\n",
       "    }\n",
       "\n",
       "    [theme=dark] .colab-df-convert:hover {\n",
       "      background-color: #434B5C;\n",
       "      box-shadow: 0px 1px 3px 1px rgba(0, 0, 0, 0.15);\n",
       "      filter: drop-shadow(0px 1px 2px rgba(0, 0, 0, 0.3));\n",
       "      fill: #FFFFFF;\n",
       "    }\n",
       "  </style>\n",
       "\n",
       "      <script>\n",
       "        const buttonEl =\n",
       "          document.querySelector('#df-0b77962c-2956-4674-a205-2f88e5799964 button.colab-df-convert');\n",
       "        buttonEl.style.display =\n",
       "          google.colab.kernel.accessAllowed ? 'block' : 'none';\n",
       "\n",
       "        async function convertToInteractive(key) {\n",
       "          const element = document.querySelector('#df-0b77962c-2956-4674-a205-2f88e5799964');\n",
       "          const dataTable =\n",
       "            await google.colab.kernel.invokeFunction('convertToInteractive',\n",
       "                                                     [key], {});\n",
       "          if (!dataTable) return;\n",
       "\n",
       "          const docLinkHtml = 'Like what you see? Visit the ' +\n",
       "            '<a target=\"_blank\" href=https://colab.research.google.com/notebooks/data_table.ipynb>data table notebook</a>'\n",
       "            + ' to learn more about interactive tables.';\n",
       "          element.innerHTML = '';\n",
       "          dataTable['output_type'] = 'display_data';\n",
       "          await google.colab.output.renderOutput(dataTable, element);\n",
       "          const docLink = document.createElement('div');\n",
       "          docLink.innerHTML = docLinkHtml;\n",
       "          element.appendChild(docLink);\n",
       "        }\n",
       "      </script>\n",
       "    </div>\n",
       "  </div>\n",
       "  "
      ],
      "text/plain": [
       "      age     sex      bmi  children smoker     region       charges\n",
       "13     56  female  41.4128         0     no  southeast  10757.996266\n",
       "367    42  female  25.9844         2     no  northwest   7776.549316\n",
       "623    18    male  34.8764         0    yes  northeast  33579.305430\n",
       "1281   47  female  28.7508         2    yes  northwest  23799.627594\n",
       "966    51    male  25.7868         2    yes  northwest  23248.361559"
      ]
     },
     "execution_count": 9,
     "metadata": {},
     "output_type": "execute_result"
    }
   ],
   "source": [
    "dataframe = customize_dataset(dataframe_raw, your_name)\n",
    "dataframe.head()"
   ]
  },
  {
   "cell_type": "markdown",
   "metadata": {
    "id": "ISBKMYPFyqKA"
   },
   "source": [
    "Let us answer some basic questions about the dataset. \n",
    "\n",
    "\n",
    "**Q1: How many rows does the dataset have?**"
   ]
  },
  {
   "cell_type": "code",
   "execution_count": 10,
   "metadata": {
    "colab": {
     "base_uri": "https://localhost:8080/"
    },
    "executionInfo": {
     "elapsed": 632,
     "status": "ok",
     "timestamp": 1644318341580,
     "user": {
      "displayName": "Phát Đỗ Phú",
      "photoUrl": "https://lh3.googleusercontent.com/a/default-user=s64",
      "userId": "05669844595672600645"
     },
     "user_tz": -420
    },
    "id": "rVYMM3DGyqKA",
    "outputId": "70e43f73-e54b-4b87-d6f3-ddb30a48e49e"
   },
   "outputs": [
    {
     "name": "stdout",
     "output_type": "stream",
     "text": [
      "1271\n"
     ]
    }
   ],
   "source": [
    "num_rows = len(dataframe)\n",
    "print(num_rows)"
   ]
  },
  {
   "cell_type": "markdown",
   "metadata": {
    "id": "RezyXCP6yqKA"
   },
   "source": [
    "**Q2: How many columns doe the dataset have**"
   ]
  },
  {
   "cell_type": "code",
   "execution_count": 11,
   "metadata": {
    "colab": {
     "base_uri": "https://localhost:8080/"
    },
    "executionInfo": {
     "elapsed": 697,
     "status": "ok",
     "timestamp": 1644318404269,
     "user": {
      "displayName": "Phát Đỗ Phú",
      "photoUrl": "https://lh3.googleusercontent.com/a/default-user=s64",
      "userId": "05669844595672600645"
     },
     "user_tz": -420
    },
    "id": "7KekXOTJyqKB",
    "outputId": "54831a30-9512-42bf-8d13-dc8429ca6f08"
   },
   "outputs": [
    {
     "name": "stdout",
     "output_type": "stream",
     "text": [
      "7\n"
     ]
    }
   ],
   "source": [
    "num_cols = len(dataframe.columns)\n",
    "print(num_cols)"
   ]
  },
  {
   "cell_type": "markdown",
   "metadata": {
    "id": "TgLEhgfLyqKB"
   },
   "source": [
    "**Q3: What are the column titles of the input variables?**"
   ]
  },
  {
   "cell_type": "code",
   "execution_count": 39,
   "metadata": {
    "colab": {
     "base_uri": "https://localhost:8080/"
    },
    "executionInfo": {
     "elapsed": 6,
     "status": "ok",
     "timestamp": 1644319815290,
     "user": {
      "displayName": "Phát Đỗ Phú",
      "photoUrl": "https://lh3.googleusercontent.com/a/default-user=s64",
      "userId": "05669844595672600645"
     },
     "user_tz": -420
    },
    "id": "uC35V415yqKB",
    "outputId": "2740ae93-3ffa-4a18-9321-12c46acc0d97"
   },
   "outputs": [
    {
     "data": {
      "text/plain": [
       "['age', 'sex', 'bmi', 'children', 'smoker', 'region']"
      ]
     },
     "execution_count": 39,
     "metadata": {},
     "output_type": "execute_result"
    }
   ],
   "source": [
    "input_cols = dataframe.drop('charges', axis=1).columns.to_list()\n",
    "\n",
    "input_cols"
   ]
  },
  {
   "cell_type": "markdown",
   "metadata": {
    "id": "qLuehIz6yqKB"
   },
   "source": [
    "**Q4: Which of the input columns are non-numeric or categorial variables ?**\n",
    "\n",
    "Hint: `sex` is one of them. List the columns that are not numbers."
   ]
  },
  {
   "cell_type": "code",
   "execution_count": 41,
   "metadata": {
    "colab": {
     "base_uri": "https://localhost:8080/"
    },
    "executionInfo": {
     "elapsed": 3,
     "status": "ok",
     "timestamp": 1644319839487,
     "user": {
      "displayName": "Phát Đỗ Phú",
      "photoUrl": "https://lh3.googleusercontent.com/a/default-user=s64",
      "userId": "05669844595672600645"
     },
     "user_tz": -420
    },
    "id": "j94941x3yqKB",
    "outputId": "eb69df96-e85b-491e-805e-b142a491975e"
   },
   "outputs": [
    {
     "data": {
      "text/plain": [
       "['sex', 'smoker', 'region']"
      ]
     },
     "execution_count": 41,
     "metadata": {},
     "output_type": "execute_result"
    }
   ],
   "source": [
    "categorical_cols = dataframe.select_dtypes(include=['object']).columns.to_list()\n",
    "\n",
    "categorical_cols"
   ]
  },
  {
   "cell_type": "markdown",
   "metadata": {
    "id": "LqIWo9g_yqKC"
   },
   "source": [
    "**Q5: What are the column titles of output/target variable(s)?**"
   ]
  },
  {
   "cell_type": "code",
   "execution_count": 59,
   "metadata": {
    "executionInfo": {
     "elapsed": 535,
     "status": "ok",
     "timestamp": 1644320381547,
     "user": {
      "displayName": "Phát Đỗ Phú",
      "photoUrl": "https://lh3.googleusercontent.com/a/default-user=s64",
      "userId": "05669844595672600645"
     },
     "user_tz": -420
    },
    "id": "m3ZotI3fyqKC"
   },
   "outputs": [],
   "source": [
    "output_cols = ['charges']"
   ]
  },
  {
   "cell_type": "markdown",
   "metadata": {
    "id": "7Heg-xOLyqKC"
   },
   "source": [
    "**Q: (Optional) What is the minimum, maximum and average value of the `charges` column? Can you show the distribution of values in a graph?**\n",
    "Use this data visualization cheatsheet for referece: https://jovian.ai/aakashns/dataviz-cheatsheet"
   ]
  },
  {
   "cell_type": "code",
   "execution_count": 130,
   "metadata": {
    "colab": {
     "base_uri": "https://localhost:8080/"
    },
    "executionInfo": {
     "elapsed": 527,
     "status": "ok",
     "timestamp": 1644324681459,
     "user": {
      "displayName": "Phát Đỗ Phú",
      "photoUrl": "https://lh3.googleusercontent.com/a/default-user=s64",
      "userId": "05669844595672600645"
     },
     "user_tz": -420
    },
    "id": "qbNv5RNOyqKC",
    "outputId": "b5f76f86-2392-4b57-9cdf-b9e8071fd986"
   },
   "outputs": [
    {
     "data": {
      "text/plain": [
       "count     1271.000000\n",
       "mean     12925.252525\n",
       "std      11805.137681\n",
       "min       1088.217683\n",
       "25%       4604.297496\n",
       "50%       9104.576461\n",
       "75%      16455.208719\n",
       "max      61857.315170\n",
       "Name: charges, dtype: float64"
      ]
     },
     "execution_count": 130,
     "metadata": {},
     "output_type": "execute_result"
    }
   ],
   "source": [
    "dataframe['charges'].describe()"
   ]
  },
  {
   "cell_type": "code",
   "execution_count": 131,
   "metadata": {
    "colab": {
     "base_uri": "https://localhost:8080/",
     "height": 352
    },
    "executionInfo": {
     "elapsed": 586,
     "status": "ok",
     "timestamp": 1644324779238,
     "user": {
      "displayName": "Phát Đỗ Phú",
      "photoUrl": "https://lh3.googleusercontent.com/a/default-user=s64",
      "userId": "05669844595672600645"
     },
     "user_tz": -420
    },
    "id": "_QCSGuVsY7F3",
    "outputId": "225939ea-b693-4766-e99c-015ce4665d60"
   },
   "outputs": [
    {
     "data": {
      "text/plain": [
       "(array([510., 376., 121.,  81.,  35.,  57.,  55.,  30.,   2.,   4.]),\n",
       " array([ 1088.217683  ,  7165.12743167, 13242.03718034, 19318.94692901,\n",
       "        25395.85667768, 31472.76642635, 37549.67617502, 43626.58592369,\n",
       "        49703.49567236, 55780.40542103, 61857.3151697 ]),\n",
       " <a list of 10 Patch objects>)"
      ]
     },
     "execution_count": 131,
     "metadata": {},
     "output_type": "execute_result"
    },
    {
     "data": {
      "image/png": "[encoded data removed]",
      "text/plain": [
       "<Figure size 432x288 with 1 Axes>"
      ]
     },
     "metadata": {
      "needs_background": "light"
     },
     "output_type": "display_data"
    }
   ],
   "source": [
    "plt.hist(dataframe['charges'])"
   ]
  },
  {
   "cell_type": "markdown",
   "metadata": {
    "id": "E9Nkz5DeyqKC"
   },
   "source": [
    "Remember to commit your notebook to Jovian after every step, so that you don't lose your work."
   ]
  },
  {
   "cell_type": "code",
   "execution_count": 16,
   "metadata": {
    "executionInfo": {
     "elapsed": 3511,
     "status": "ok",
     "timestamp": 1644318668484,
     "user": {
      "displayName": "Phát Đỗ Phú",
      "photoUrl": "https://lh3.googleusercontent.com/a/default-user=s64",
      "userId": "05669844595672600645"
     },
     "user_tz": -420
    },
    "id": "H2Cg2D6PyqKD"
   },
   "outputs": [],
   "source": [
    "!pip install jovian --upgrade -q"
   ]
  },
  {
   "cell_type": "code",
   "execution_count": 17,
   "metadata": {
    "executionInfo": {
     "elapsed": 5,
     "status": "ok",
     "timestamp": 1644318670658,
     "user": {
      "displayName": "Phát Đỗ Phú",
      "photoUrl": "https://lh3.googleusercontent.com/a/default-user=s64",
      "userId": "05669844595672600645"
     },
     "user_tz": -420
    },
    "id": "tipIKUhFyqKD"
   },
   "outputs": [],
   "source": [
    "import jovian"
   ]
  },
  {
   "cell_type": "code",
   "execution_count": 18,
   "metadata": {
    "colab": {
     "base_uri": "https://localhost:8080/",
     "height": 122
    },
    "executionInfo": {
     "elapsed": 20947,
     "status": "ok",
     "timestamp": 1644318692464,
     "user": {
      "displayName": "Phát Đỗ Phú",
      "photoUrl": "https://lh3.googleusercontent.com/a/default-user=s64",
      "userId": "05669844595672600645"
     },
     "user_tz": -420
    },
    "id": "V6dApYcLyqKD",
    "outputId": "1c78434a-eb4e-40f0-f78e-eecd19fc98e3"
   },
   "outputs": [
    {
     "name": "stdout",
     "output_type": "stream",
     "text": [
      "[jovian] Detected Colab notebook...\u001b[0m\n",
      "[jovian] Please enter your API key ( from https://jovian.ai/ ):\u001b[0m\n",
      "API KEY: ··········\n",
      "[jovian] Uploading colab notebook to Jovian...\u001b[0m\n",
      "Committed successfully! https://jovian.ai/f2l2804nk/02-insurance-linear-regression\n"
     ]
    },
    {
     "data": {
      "application/vnd.google.colaboratory.intrinsic+json": {
       "type": "string"
      },
      "text/plain": [
       "'https://jovian.ai/f2l2804nk/02-insurance-linear-regression'"
      ]
     },
     "execution_count": 18,
     "metadata": {},
     "output_type": "execute_result"
    }
   ],
   "source": [
    "jovian.commit()"
   ]
  },
  {
   "cell_type": "markdown",
   "metadata": {
    "id": "Qz0W-7JqyqKD"
   },
   "source": [
    "## Step 2: Prepare the dataset for training\n",
    "\n",
    "We need to convert the data from the Pandas dataframe into a PyTorch tensors for training. To do this, the first step is to convert it numpy arrays. If you've filled out `input_cols`, `categorial_cols` and `output_cols` correctly, this following function will perform the conversion to numpy arrays."
   ]
  },
  {
   "cell_type": "code",
   "execution_count": 42,
   "metadata": {
    "executionInfo": {
     "elapsed": 585,
     "status": "ok",
     "timestamp": 1644319853398,
     "user": {
      "displayName": "Phát Đỗ Phú",
      "photoUrl": "https://lh3.googleusercontent.com/a/default-user=s64",
      "userId": "05669844595672600645"
     },
     "user_tz": -420
    },
    "id": "YhPZGwFRyqKD"
   },
   "outputs": [],
   "source": [
    "def dataframe_to_arrays(dataframe):\n",
    "    # Make a copy of the original dataframe\n",
    "    dataframe1 = dataframe.copy(deep=True)\n",
    "    # Convert non-numeric categorical columns to numbers\n",
    "    for col in categorical_cols:\n",
    "        dataframe1[col] = dataframe1[col].astype('category').cat.codes\n",
    "    # Extract input & outupts as numpy arrays\n",
    "    inputs_array = dataframe1[input_cols].to_numpy()\n",
    "    targets_array = dataframe1[output_cols].to_numpy()\n",
    "    return inputs_array, targets_array"
   ]
  },
  {
   "cell_type": "markdown",
   "metadata": {
    "id": "jzqTPixfyqKD"
   },
   "source": [
    "Read through the [Pandas documentation](https://pandas.pydata.org/pandas-docs/stable/user_guide/categorical.html) to understand how we're converting categorical variables into numbers."
   ]
  },
  {
   "cell_type": "code",
   "execution_count": 43,
   "metadata": {
    "colab": {
     "base_uri": "https://localhost:8080/"
    },
    "executionInfo": {
     "elapsed": 709,
     "status": "ok",
     "timestamp": 1644319862010,
     "user": {
      "displayName": "Phát Đỗ Phú",
      "photoUrl": "https://lh3.googleusercontent.com/a/default-user=s64",
      "userId": "05669844595672600645"
     },
     "user_tz": -420
    },
    "id": "GYd0BIJgyqKE",
    "outputId": "abc0c303-ec69-4430-ea11-52cd847a6507"
   },
   "outputs": [
    {
     "data": {
      "text/plain": [
       "(array([[56.    ,  0.    , 41.4128,  0.    ,  0.    ,  2.    ],\n",
       "        [42.    ,  0.    , 25.9844,  2.    ,  0.    ,  1.    ],\n",
       "        [18.    ,  1.    , 34.8764,  0.    ,  1.    ,  0.    ],\n",
       "        ...,\n",
       "        [28.    ,  1.    , 36.8524,  0.    ,  0.    ,  0.    ],\n",
       "        [34.    ,  0.    , 24.5024,  0.    ,  0.    ,  0.    ],\n",
       "        [46.    ,  1.    , 26.832 ,  5.    ,  0.    ,  3.    ]]),\n",
       " array([10757.996266 ,  7776.5493155, 33579.3054305, ...,  3170.7812505,\n",
       "         4842.605108 ,  9794.0609   ]))"
      ]
     },
     "execution_count": 43,
     "metadata": {},
     "output_type": "execute_result"
    }
   ],
   "source": [
    "inputs_array, targets_array = dataframe_to_arrays(dataframe)\n",
    "\n",
    "inputs_array, targets_array"
   ]
  },
  {
   "cell_type": "markdown",
   "metadata": {
    "id": "4TT3jWf1yqKE"
   },
   "source": [
    "**Q6: Convert the numpy arrays `inputs_array` and `targets_array` into PyTorch tensors. Make sure that the data type is `torch.float32`.**"
   ]
  },
  {
   "cell_type": "code",
   "execution_count": 139,
   "metadata": {
    "executionInfo": {
     "elapsed": 4,
     "status": "ok",
     "timestamp": 1644325422823,
     "user": {
      "displayName": "Phát Đỗ Phú",
      "photoUrl": "https://lh3.googleusercontent.com/a/default-user=s64",
      "userId": "05669844595672600645"
     },
     "user_tz": -420
    },
    "id": "bM7YYEh7yqKE"
   },
   "outputs": [],
   "source": [
    "inputs = torch.from_numpy(inputs_array.astype('float32'))\n",
    "targets = torch.from_numpy(targets_array.astype('float32'))"
   ]
  },
  {
   "cell_type": "code",
   "execution_count": 140,
   "metadata": {
    "colab": {
     "base_uri": "https://localhost:8080/"
    },
    "executionInfo": {
     "elapsed": 2,
     "status": "ok",
     "timestamp": 1644325423837,
     "user": {
      "displayName": "Phát Đỗ Phú",
      "photoUrl": "https://lh3.googleusercontent.com/a/default-user=s64",
      "userId": "05669844595672600645"
     },
     "user_tz": -420
    },
    "id": "eVUVt1IyyqKE",
    "outputId": "69b2314e-20d9-40bd-82b4-c0459d98abce"
   },
   "outputs": [
    {
     "data": {
      "text/plain": [
       "(torch.float32, torch.float32)"
      ]
     },
     "execution_count": 140,
     "metadata": {},
     "output_type": "execute_result"
    }
   ],
   "source": [
    "inputs.dtype, targets.dtype"
   ]
  },
  {
   "cell_type": "markdown",
   "metadata": {
    "id": "7w7wlAdyyqKE"
   },
   "source": [
    "Next, we need to create PyTorch datasets & data loaders for training & validation. We'll start by creating a `TensorDataset`."
   ]
  },
  {
   "cell_type": "code",
   "execution_count": 144,
   "metadata": {
    "executionInfo": {
     "elapsed": 523,
     "status": "ok",
     "timestamp": 1644325482787,
     "user": {
      "displayName": "Phát Đỗ Phú",
      "photoUrl": "https://lh3.googleusercontent.com/a/default-user=s64",
      "userId": "05669844595672600645"
     },
     "user_tz": -420
    },
    "id": "0qDCXthxyqKE"
   },
   "outputs": [],
   "source": [
    "dataset = TensorDataset(inputs, targets)"
   ]
  },
  {
   "cell_type": "markdown",
   "metadata": {
    "id": "-AOJoh76yqKF"
   },
   "source": [
    "**Q7: Pick a number between `0.1` and `0.2` to determine the fraction of data that will be used for creating the validation set. Then use `random_split` to create training & validation datasets.**"
   ]
  },
  {
   "cell_type": "code",
   "execution_count": 145,
   "metadata": {
    "executionInfo": {
     "elapsed": 6,
     "status": "ok",
     "timestamp": 1644325484815,
     "user": {
      "displayName": "Phát Đỗ Phú",
      "photoUrl": "https://lh3.googleusercontent.com/a/default-user=s64",
      "userId": "05669844595672600645"
     },
     "user_tz": -420
    },
    "id": "91lc0Y0lyqKF"
   },
   "outputs": [],
   "source": [
    "val_percent = 0.2 # between 0.1 and 0.2\n",
    "val_size = int(num_rows * val_percent)\n",
    "train_size = num_rows - val_size\n",
    "\n",
    "\n",
    "train_ds, val_ds = random_split(dataset, [train_size, val_size]) # Use the random_split function to split dataset into 2 parts of the desired length"
   ]
  },
  {
   "cell_type": "markdown",
   "metadata": {
    "id": "YsutFJ6eyqKF"
   },
   "source": [
    "Finally, we can create data loaders for training & validation.\n",
    "\n",
    "**Q8: Pick a batch size for the data loader.**"
   ]
  },
  {
   "cell_type": "code",
   "execution_count": 160,
   "metadata": {
    "executionInfo": {
     "elapsed": 609,
     "status": "ok",
     "timestamp": 1644325561444,
     "user": {
      "displayName": "Phát Đỗ Phú",
      "photoUrl": "https://lh3.googleusercontent.com/a/default-user=s64",
      "userId": "05669844595672600645"
     },
     "user_tz": -420
    },
    "id": "LD5mz7vvyqKF"
   },
   "outputs": [],
   "source": [
    "batch_size = 128"
   ]
  },
  {
   "cell_type": "code",
   "execution_count": 161,
   "metadata": {
    "executionInfo": {
     "elapsed": 5,
     "status": "ok",
     "timestamp": 1644325562149,
     "user": {
      "displayName": "Phát Đỗ Phú",
      "photoUrl": "https://lh3.googleusercontent.com/a/default-user=s64",
      "userId": "05669844595672600645"
     },
     "user_tz": -420
    },
    "id": "M8qziu4QyqKF"
   },
   "outputs": [],
   "source": [
    "train_loader = DataLoader(train_ds, batch_size, shuffle=True)\n",
    "val_loader = DataLoader(val_ds, batch_size)"
   ]
  },
  {
   "cell_type": "markdown",
   "metadata": {
    "id": "qqL4vMqSyqKF"
   },
   "source": [
    "Let's look at a batch of data to verify everything is working fine so far."
   ]
  },
  {
   "cell_type": "code",
   "execution_count": 143,
   "metadata": {
    "colab": {
     "base_uri": "https://localhost:8080/"
    },
    "executionInfo": {
     "elapsed": 4,
     "status": "ok",
     "timestamp": 1644325454587,
     "user": {
      "displayName": "Phát Đỗ Phú",
      "photoUrl": "https://lh3.googleusercontent.com/a/default-user=s64",
      "userId": "05669844595672600645"
     },
     "user_tz": -420
    },
    "id": "n8e2oxyWyqKF",
    "outputId": "a1d9ff3d-10f6-4980-dab6-2ad1b08676a8"
   },
   "outputs": [
    {
     "name": "stdout",
     "output_type": "stream",
     "text": [
      "inputs: tensor([[46.0000,  1.0000, 27.6848,  1.0000,  0.0000,  2.0000],\n",
      "        [49.0000,  1.0000, 33.5920,  3.0000,  0.0000,  1.0000],\n",
      "        [39.0000,  0.0000, 24.2060,  3.0000,  0.0000,  0.0000],\n",
      "        [22.0000,  1.0000, 32.9992,  0.0000,  0.0000,  0.0000],\n",
      "        [61.0000,  0.0000, 45.7600,  0.0000,  0.0000,  3.0000],\n",
      "        [29.0000,  0.0000, 22.7240,  0.0000,  1.0000,  0.0000],\n",
      "        [36.0000,  1.0000, 30.8880,  0.0000,  0.0000,  2.0000],\n",
      "        [44.0000,  1.0000, 38.5840,  2.0000,  0.0000,  3.0000],\n",
      "        [29.0000,  1.0000, 30.8256,  1.0000,  0.0000,  0.0000],\n",
      "        [60.0000,  1.0000, 42.5568,  0.0000,  1.0000,  2.0000],\n",
      "        [45.0000,  1.0000, 24.5024,  2.0000,  0.0000,  0.0000],\n",
      "        [54.0000,  0.0000, 37.2476,  3.0000,  0.0000,  1.0000],\n",
      "        [51.0000,  1.0000, 41.2880,  1.0000,  0.0000,  3.0000],\n",
      "        [28.0000,  1.0000, 38.5840,  1.0000,  0.0000,  3.0000],\n",
      "        [18.0000,  1.0000, 24.0084,  0.0000,  0.0000,  0.0000],\n",
      "        [58.0000,  0.0000, 26.2080,  0.0000,  0.0000,  3.0000],\n",
      "        [41.0000,  0.0000, 32.8640,  0.0000,  0.0000,  3.0000],\n",
      "        [51.0000,  1.0000, 32.9004,  0.0000,  0.0000,  1.0000],\n",
      "        [52.0000,  0.0000, 32.1100,  0.0000,  0.0000,  0.0000],\n",
      "        [31.0000,  1.0000, 21.2160,  0.0000,  0.0000,  3.0000],\n",
      "        [18.0000,  1.0000, 34.8764,  0.0000,  1.0000,  0.0000],\n",
      "        [30.0000,  1.0000, 32.6560,  1.0000,  0.0000,  3.0000],\n",
      "        [48.0000,  1.0000, 25.3968,  0.0000,  1.0000,  2.0000],\n",
      "        [23.0000,  0.0000, 34.0912,  2.0000,  1.0000,  2.0000],\n",
      "        [60.0000,  1.0000, 25.2928,  1.0000,  0.0000,  1.0000],\n",
      "        [31.0000,  1.0000, 32.1100,  0.0000,  0.0000,  0.0000],\n",
      "        [33.0000,  0.0000, 34.2160,  2.0000,  0.0000,  3.0000],\n",
      "        [39.0000,  0.0000, 33.1968,  2.0000,  0.0000,  1.0000],\n",
      "        [27.0000,  0.0000, 24.1384,  1.0000,  0.0000,  2.0000],\n",
      "        [55.0000,  0.0000, 42.4424,  3.0000,  0.0000,  2.0000],\n",
      "        [64.0000,  0.0000, 32.5520,  2.0000,  1.0000,  3.0000],\n",
      "        [34.0000,  1.0000, 28.0800,  2.0000,  0.0000,  3.0000],\n",
      "        [54.0000,  0.0000, 23.9200,  3.0000,  0.0000,  3.0000],\n",
      "        [59.0000,  1.0000, 27.4560,  0.0000,  0.0000,  2.0000],\n",
      "        [49.0000,  0.0000, 22.1520,  1.0000,  0.0000,  3.0000],\n",
      "        [33.0000,  0.0000, 34.8400,  0.0000,  1.0000,  3.0000],\n",
      "        [51.0000,  1.0000, 34.6632,  3.0000,  0.0000,  2.0000],\n",
      "        [50.0000,  0.0000, 27.2688,  2.0000,  0.0000,  1.0000],\n",
      "        [33.0000,  0.0000, 23.0204,  1.0000,  0.0000,  0.0000],\n",
      "        [61.0000,  0.0000, 26.0832,  0.0000,  0.0000,  2.0000],\n",
      "        [47.0000,  0.0000, 24.5440,  1.0000,  0.0000,  3.0000],\n",
      "        [42.0000,  1.0000, 35.4640,  0.0000,  0.0000,  3.0000],\n",
      "        [33.0000,  0.0000, 36.9512,  0.0000,  1.0000,  1.0000],\n",
      "        [43.0000,  0.0000, 31.9124,  2.0000,  0.0000,  1.0000],\n",
      "        [34.0000,  1.0000, 34.1120,  1.0000,  0.0000,  3.0000],\n",
      "        [27.0000,  1.0000, 30.3160,  0.0000,  1.0000,  2.0000],\n",
      "        [38.0000,  1.0000, 36.0880,  2.0000,  0.0000,  3.0000],\n",
      "        [49.0000,  1.0000, 23.4156,  0.0000,  0.0000,  0.0000],\n",
      "        [40.0000,  1.0000, 33.5920,  2.0000,  0.0000,  1.0000],\n",
      "        [50.0000,  1.0000, 27.4664,  0.0000,  0.0000,  1.0000],\n",
      "        [42.0000,  0.0000, 34.4812,  1.0000,  0.0000,  0.0000],\n",
      "        [22.0000,  0.0000, 37.4400,  0.0000,  0.0000,  3.0000],\n",
      "        [22.0000,  1.0000, 33.3944,  0.0000,  0.0000,  1.0000],\n",
      "        [59.0000,  1.0000, 42.7856,  1.0000,  1.0000,  2.0000],\n",
      "        [43.0000,  0.0000, 27.7680,  2.0000,  1.0000,  3.0000],\n",
      "        [19.0000,  1.0000, 36.9512,  0.0000,  0.0000,  1.0000],\n",
      "        [37.0000,  0.0000, 30.6800,  2.0000,  0.0000,  3.0000],\n",
      "        [19.0000,  1.0000, 26.1820,  0.0000,  0.0000,  1.0000],\n",
      "        [46.0000,  0.0000, 28.8496,  0.0000,  0.0000,  1.0000],\n",
      "        [31.0000,  1.0000, 32.3076,  3.0000,  0.0000,  1.0000],\n",
      "        [26.0000,  0.0000, 23.5144,  0.0000,  0.0000,  1.0000],\n",
      "        [45.0000,  0.0000, 26.7280,  3.0000,  0.0000,  3.0000],\n",
      "        [52.0000,  0.0000, 24.1072,  0.0000,  0.0000,  0.0000],\n",
      "        [24.0000,  1.0000, 34.9752,  4.0000,  0.0000,  0.0000]],\n",
      "       dtype=torch.float64)\n",
      "targets: tensor([ 7509.8465,  9961.3762,  7746.8810,  2187.1528, 12671.9665, 15631.8454,\n",
      "         4267.7391,  7508.1269, 19669.4733, 47213.3520,  8345.7087, 12120.4321,\n",
      "         9109.6056,  3178.8462,  1653.5591, 11482.0452,  6000.5432,  8898.9116,\n",
      "        22354.1992,  3162.3930, 33579.3054,  3549.5656, 20586.9655, 34940.3809,\n",
      "        12719.2267,  3742.0265,  5213.7869,  6993.2070,  3455.0322, 12111.2269,\n",
      "        45872.3233, 11385.7134, 11731.6437, 11391.0000,  8906.7049, 35966.9908,\n",
      "        10243.6769, 10179.1274,  5193.4524, 23777.6985,  8283.4809,  5800.3391,\n",
      "        53481.3400,  8061.5140, 13927.6134, 17699.1006,  5899.9329,  8428.1931,\n",
      "         6777.0961,  8562.3936,  7410.2349,  2101.7300,  1993.6652, 47501.1402,\n",
      "        21804.2420,  1597.0368,  6122.5934,  1583.0752,  7785.8666,  5262.2726,\n",
      "         3081.5114,  8828.7441,  9891.8390, 16614.5733], dtype=torch.float64)\n"
     ]
    }
   ],
   "source": [
    "for xb, yb in train_loader:\n",
    "    print(\"inputs:\", xb)\n",
    "    print(\"targets:\", yb)\n",
    "    break"
   ]
  },
  {
   "cell_type": "markdown",
   "metadata": {
    "id": "PSYQ8gwIyqKF"
   },
   "source": [
    "Let's save our work by committing to Jovian."
   ]
  },
  {
   "cell_type": "code",
   "execution_count": 52,
   "metadata": {
    "colab": {
     "base_uri": "https://localhost:8080/",
     "height": 87
    },
    "executionInfo": {
     "elapsed": 2988,
     "status": "ok",
     "timestamp": 1644319923890,
     "user": {
      "displayName": "Phát Đỗ Phú",
      "photoUrl": "https://lh3.googleusercontent.com/a/default-user=s64",
      "userId": "05669844595672600645"
     },
     "user_tz": -420
    },
    "id": "r-y3AtjAyqKG",
    "outputId": "a215ea36-94fe-4295-cdac-bdcbd3254353"
   },
   "outputs": [
    {
     "name": "stdout",
     "output_type": "stream",
     "text": [
      "[jovian] Detected Colab notebook...\u001b[0m\n",
      "[jovian] Uploading colab notebook to Jovian...\u001b[0m\n",
      "Committed successfully! https://jovian.ai/f2l2804nk/02-insurance-linear-regression\n"
     ]
    },
    {
     "data": {
      "application/vnd.google.colaboratory.intrinsic+json": {
       "type": "string"
      },
      "text/plain": [
       "'https://jovian.ai/f2l2804nk/02-insurance-linear-regression'"
      ]
     },
     "execution_count": 52,
     "metadata": {},
     "output_type": "execute_result"
    }
   ],
   "source": [
    "jovian.commit(project=project_name, environment=None)"
   ]
  },
  {
   "cell_type": "markdown",
   "metadata": {
    "id": "ftuMASO5yqKG"
   },
   "source": [
    "## Step 3: Create a Linear Regression Model\n",
    "\n",
    "Our model itself is a fairly straightforward linear regression (we'll build more complex models in the next assignment). \n"
   ]
  },
  {
   "cell_type": "code",
   "execution_count": 148,
   "metadata": {
    "executionInfo": {
     "elapsed": 539,
     "status": "ok",
     "timestamp": 1644325493576,
     "user": {
      "displayName": "Phát Đỗ Phú",
      "photoUrl": "https://lh3.googleusercontent.com/a/default-user=s64",
      "userId": "05669844595672600645"
     },
     "user_tz": -420
    },
    "id": "hrSC3vWLyqKG"
   },
   "outputs": [],
   "source": [
    "input_size = len(input_cols)\n",
    "output_size = len(output_cols)"
   ]
  },
  {
   "cell_type": "markdown",
   "metadata": {
    "id": "Q-W3JmkwyqKG"
   },
   "source": [
    "**Q9: Complete the class definition below by filling out the constructor (`__init__`), `forward`, `training_step` and `validation_step` methods.**\n",
    "\n",
    "Hint: Think carefully about picking a good loss fuction (it's not cross entropy). Maybe try 2-3 of them and see which one works best. See https://pytorch.org/docs/stable/nn.functional.html#loss-functions"
   ]
  },
  {
   "cell_type": "code",
   "execution_count": 171,
   "metadata": {
    "executionInfo": {
     "elapsed": 510,
     "status": "ok",
     "timestamp": 1644325682793,
     "user": {
      "displayName": "Phát Đỗ Phú",
      "photoUrl": "https://lh3.googleusercontent.com/a/default-user=s64",
      "userId": "05669844595672600645"
     },
     "user_tz": -420
    },
    "id": "HHuXCx4_yqKG"
   },
   "outputs": [],
   "source": [
    "class InsuranceModel(nn.Module):\n",
    "    def __init__(self):\n",
    "        super().__init__()\n",
    "        self.linear = nn.Linear(input_size, output_size)                  # fill this (hint: use input_size & output_size defined above)\n",
    "        \n",
    "    def forward(self, xb):\n",
    "        out = self.linear(xb)                          # fill this\n",
    "        return out\n",
    "    \n",
    "    def training_step(self, batch):\n",
    "        inputs, targets = batch \n",
    "        # Generate predictions\n",
    "        out = self(inputs)          \n",
    "        # Calcuate loss\n",
    "        loss = torch.sqrt(F.mse_loss(out, targets.reshape(-1, 1)))                        # fill this\n",
    "        return loss\n",
    "    \n",
    "    def validation_step(self, batch):\n",
    "        inputs, targets = batch\n",
    "        # Generate predictions\n",
    "        out = self(inputs)\n",
    "        # Calculate loss\n",
    "        loss = torch.sqrt(F.mse_loss(out, targets.reshape(-1, 1)))                           # fill this    \n",
    "        return {'val_loss': loss.detach()}\n",
    "        \n",
    "    def validation_epoch_end(self, outputs):\n",
    "        batch_losses = [x['val_loss'] for x in outputs]\n",
    "        epoch_loss = torch.stack(batch_losses).mean()   # Combine losses\n",
    "        return {'val_loss': epoch_loss.item()}\n",
    "    \n",
    "    def epoch_end(self, epoch, result, num_epochs):\n",
    "        # Print result every 20th epoch\n",
    "        if (epoch+1) % 20 == 0 or epoch == num_epochs-1:\n",
    "            print(\"Epoch [{}], val_loss: {:.4f}\".format(epoch+1, result['val_loss']))"
   ]
  },
  {
   "cell_type": "markdown",
   "metadata": {
    "id": "ZBBvu964yqKG"
   },
   "source": [
    "Let us create a model using the `InsuranceModel` class. You may need to come back later and re-run the next cell to reinitialize the model, in case the loss becomes `nan` or `infinity`."
   ]
  },
  {
   "cell_type": "code",
   "execution_count": 197,
   "metadata": {
    "colab": {
     "base_uri": "https://localhost:8080/"
    },
    "executionInfo": {
     "elapsed": 653,
     "status": "ok",
     "timestamp": 1644326121807,
     "user": {
      "displayName": "Phát Đỗ Phú",
      "photoUrl": "https://lh3.googleusercontent.com/a/default-user=s64",
      "userId": "05669844595672600645"
     },
     "user_tz": -420
    },
    "id": "XecCa7owyqKH",
    "outputId": "33ed78fa-9dba-4af0-cf08-fa3bfe3224d7"
   },
   "outputs": [
    {
     "data": {
      "text/plain": [
       "InsuranceModel(\n",
       "  (linear): Linear(in_features=6, out_features=1, bias=True)\n",
       ")"
      ]
     },
     "execution_count": 197,
     "metadata": {},
     "output_type": "execute_result"
    }
   ],
   "source": [
    "model = InsuranceModel()\n",
    "\n",
    "model"
   ]
  },
  {
   "cell_type": "markdown",
   "metadata": {
    "id": "1GyoajJqyqKH"
   },
   "source": [
    "Let's check out the weights and biases of the model using `model.parameters`."
   ]
  },
  {
   "cell_type": "code",
   "execution_count": 198,
   "metadata": {
    "colab": {
     "base_uri": "https://localhost:8080/"
    },
    "executionInfo": {
     "elapsed": 9,
     "status": "ok",
     "timestamp": 1644326124179,
     "user": {
      "displayName": "Phát Đỗ Phú",
      "photoUrl": "https://lh3.googleusercontent.com/a/default-user=s64",
      "userId": "05669844595672600645"
     },
     "user_tz": -420
    },
    "id": "XliPc1uWyqKH",
    "outputId": "96fb87c2-32a5-44cc-8193-fab93f0d28c2"
   },
   "outputs": [
    {
     "data": {
      "text/plain": [
       "[Parameter containing:\n",
       " tensor([[ 0.2035,  0.3064,  0.0875,  0.3589,  0.3188, -0.3566]],\n",
       "        requires_grad=True), Parameter containing:\n",
       " tensor([-0.2814], requires_grad=True)]"
      ]
     },
     "execution_count": 198,
     "metadata": {},
     "output_type": "execute_result"
    }
   ],
   "source": [
    "list(model.parameters())"
   ]
  },
  {
   "cell_type": "markdown",
   "metadata": {
    "id": "D6hWMPzdyqKH"
   },
   "source": [
    "One final commit before we train the model."
   ]
  },
  {
   "cell_type": "code",
   "execution_count": 57,
   "metadata": {
    "colab": {
     "base_uri": "https://localhost:8080/",
     "height": 87
    },
    "executionInfo": {
     "elapsed": 3261,
     "status": "ok",
     "timestamp": 1644320273988,
     "user": {
      "displayName": "Phát Đỗ Phú",
      "photoUrl": "https://lh3.googleusercontent.com/a/default-user=s64",
      "userId": "05669844595672600645"
     },
     "user_tz": -420
    },
    "id": "48dPI4gdyqKI",
    "outputId": "3192edb9-970a-4852-a81b-a8c1be80a318"
   },
   "outputs": [
    {
     "name": "stdout",
     "output_type": "stream",
     "text": [
      "[jovian] Detected Colab notebook...\u001b[0m\n",
      "[jovian] Uploading colab notebook to Jovian...\u001b[0m\n",
      "Committed successfully! https://jovian.ai/f2l2804nk/02-insurance-linear-regression\n"
     ]
    },
    {
     "data": {
      "application/vnd.google.colaboratory.intrinsic+json": {
       "type": "string"
      },
      "text/plain": [
       "'https://jovian.ai/f2l2804nk/02-insurance-linear-regression'"
      ]
     },
     "execution_count": 57,
     "metadata": {},
     "output_type": "execute_result"
    }
   ],
   "source": [
    "jovian.commit(project=project_name, environment=None)"
   ]
  },
  {
   "cell_type": "markdown",
   "metadata": {
    "id": "ba_U_UwXyqKI"
   },
   "source": [
    "## Step 4: Train the model to fit the data\n",
    "\n",
    "To train our model, we'll use the same `fit` function explained in the lecture. That's the benefit of defining a generic training loop - you can use it for any problem."
   ]
  },
  {
   "cell_type": "code",
   "execution_count": 174,
   "metadata": {
    "executionInfo": {
     "elapsed": 1,
     "status": "ok",
     "timestamp": 1644325692224,
     "user": {
      "displayName": "Phát Đỗ Phú",
      "photoUrl": "https://lh3.googleusercontent.com/a/default-user=s64",
      "userId": "05669844595672600645"
     },
     "user_tz": -420
    },
    "id": "Kl2nGTqdyqKI"
   },
   "outputs": [],
   "source": [
    "def evaluate(model, val_loader):\n",
    "    outputs = [model.validation_step(batch) for batch in val_loader]\n",
    "    return model.validation_epoch_end(outputs)\n",
    "\n",
    "def fit(epochs, lr, model, train_loader, val_loader, opt_func=torch.optim.SGD):\n",
    "    history = []\n",
    "    optimizer = opt_func(model.parameters(), lr)\n",
    "    for epoch in range(epochs):\n",
    "        # Training Phase \n",
    "        for batch in train_loader:\n",
    "            loss = model.training_step(batch)\n",
    "            loss.backward()\n",
    "            optimizer.step()\n",
    "            optimizer.zero_grad()\n",
    "        # Validation phase\n",
    "        result = evaluate(model, val_loader)\n",
    "        model.epoch_end(epoch, result, epochs)\n",
    "        history.append(result)\n",
    "    return history"
   ]
  },
  {
   "cell_type": "markdown",
   "metadata": {
    "id": "YjfIGOExyqKI"
   },
   "source": [
    "**Q10: Use the `evaluate` function to calculate the loss on the validation set before training.**"
   ]
  },
  {
   "cell_type": "code",
   "execution_count": 199,
   "metadata": {
    "colab": {
     "base_uri": "https://localhost:8080/"
    },
    "executionInfo": {
     "elapsed": 698,
     "status": "ok",
     "timestamp": 1644326134828,
     "user": {
      "displayName": "Phát Đỗ Phú",
      "photoUrl": "https://lh3.googleusercontent.com/a/default-user=s64",
      "userId": "05669844595672600645"
     },
     "user_tz": -420
    },
    "id": "I_2lkfCVyqKI",
    "outputId": "ff24bea8-fe80-4b5f-a323-215c99956b60"
   },
   "outputs": [
    {
     "name": "stdout",
     "output_type": "stream",
     "text": [
      "{'val_loss': 18153.13671875}\n"
     ]
    }
   ],
   "source": [
    "result = evaluate(model, val_loader) # Use the the evaluate function\n",
    "print(result)"
   ]
  },
  {
   "cell_type": "markdown",
   "metadata": {
    "id": "r7di8xVkyqKI"
   },
   "source": [
    "\n",
    "We are now ready to train the model. You may need to run the training loop many times, for different number of epochs and with different learning rates, to get a good result. Also, if your loss becomes too large (or `nan`), you may have to re-initialize the model by running the cell `model = InsuranceModel()`. Experiment with this for a while, and try to get to as low a loss as possible."
   ]
  },
  {
   "cell_type": "markdown",
   "metadata": {
    "id": "sB7WDdBQyqKI"
   },
   "source": [
    "**Q11: Train the model 4-5 times with different learning rates & for different number of epochs.**\n",
    "\n",
    "Hint: Vary learning rates by orders of 10 (e.g. `1e-2`, `1e-3`, `1e-4`, `1e-5`, `1e-6`) to figure out what works."
   ]
  },
  {
   "cell_type": "code",
   "execution_count": 200,
   "metadata": {
    "colab": {
     "base_uri": "https://localhost:8080/"
    },
    "executionInfo": {
     "elapsed": 2078,
     "status": "ok",
     "timestamp": 1644326151144,
     "user": {
      "displayName": "Phát Đỗ Phú",
      "photoUrl": "https://lh3.googleusercontent.com/a/default-user=s64",
      "userId": "05669844595672600645"
     },
     "user_tz": -420
    },
    "id": "NBPZtGU6yqKJ",
    "outputId": "5c04a7a7-c947-47bf-ff1a-b08a398e88fc"
   },
   "outputs": [
    {
     "name": "stdout",
     "output_type": "stream",
     "text": [
      "Epoch [20], val_loss: 18152.8809\n",
      "Epoch [40], val_loss: 18152.6250\n",
      "Epoch [60], val_loss: 18152.3711\n",
      "Epoch [80], val_loss: 18152.1152\n",
      "Epoch [100], val_loss: 18151.8594\n",
      "Epoch [120], val_loss: 18151.6055\n"
     ]
    }
   ],
   "source": [
    "epochs = 120\n",
    "lr = 1e-6\n",
    "history1 = fit(epochs, lr, model, train_loader, val_loader)"
   ]
  },
  {
   "cell_type": "code",
   "execution_count": 177,
   "metadata": {
    "colab": {
     "base_uri": "https://localhost:8080/"
    },
    "executionInfo": {
     "elapsed": 1877,
     "status": "ok",
     "timestamp": 1644325702881,
     "user": {
      "displayName": "Phát Đỗ Phú",
      "photoUrl": "https://lh3.googleusercontent.com/a/default-user=s64",
      "userId": "05669844595672600645"
     },
     "user_tz": -420
    },
    "id": "bzhyxKnByqKJ",
    "outputId": "ff0ac1bd-14d8-4c03-bf1b-229b6a9702e5"
   },
   "outputs": [
    {
     "name": "stdout",
     "output_type": "stream",
     "text": [
      "Epoch [20], val_loss: 18161.9414\n",
      "Epoch [40], val_loss: 18159.3887\n",
      "Epoch [60], val_loss: 18156.8340\n",
      "Epoch [80], val_loss: 18154.2812\n",
      "Epoch [100], val_loss: 18151.7266\n",
      "Epoch [120], val_loss: 18149.1758\n",
      "Epoch [140], val_loss: 18146.6230\n"
     ]
    }
   ],
   "source": [
    "epochs = 140\n",
    "lr = 1e-5\n",
    "history2 = fit(epochs, lr, model, train_loader, val_loader)"
   ]
  },
  {
   "cell_type": "code",
   "execution_count": 178,
   "metadata": {
    "colab": {
     "base_uri": "https://localhost:8080/"
    },
    "executionInfo": {
     "elapsed": 1977,
     "status": "ok",
     "timestamp": 1644325706579,
     "user": {
      "displayName": "Phát Đỗ Phú",
      "photoUrl": "https://lh3.googleusercontent.com/a/default-user=s64",
      "userId": "05669844595672600645"
     },
     "user_tz": -420
    },
    "id": "sa16x1-AyqKJ",
    "outputId": "16a476a1-b597-49fa-901a-a5ac94b3de12"
   },
   "outputs": [
    {
     "name": "stdout",
     "output_type": "stream",
     "text": [
      "Epoch [20], val_loss: 18121.1211\n",
      "Epoch [40], val_loss: 18095.6758\n",
      "Epoch [60], val_loss: 18070.2695\n",
      "Epoch [80], val_loss: 18044.9336\n",
      "Epoch [100], val_loss: 18019.6602\n",
      "Epoch [120], val_loss: 17994.4141\n",
      "Epoch [140], val_loss: 17969.2383\n",
      "Epoch [160], val_loss: 17944.1055\n"
     ]
    }
   ],
   "source": [
    "epochs = 160\n",
    "lr = 1e-4\n",
    "history3 = fit(epochs, lr, model, train_loader, val_loader)"
   ]
  },
  {
   "cell_type": "code",
   "execution_count": 179,
   "metadata": {
    "colab": {
     "base_uri": "https://localhost:8080/"
    },
    "executionInfo": {
     "elapsed": 3255,
     "status": "ok",
     "timestamp": 1644325709817,
     "user": {
      "displayName": "Phát Đỗ Phú",
      "photoUrl": "https://lh3.googleusercontent.com/a/default-user=s64",
      "userId": "05669844595672600645"
     },
     "user_tz": -420
    },
    "id": "kNuP8MOvyqKJ",
    "outputId": "debd7eb3-1c4e-4881-cc10-4298ad24a3c0"
   },
   "outputs": [
    {
     "name": "stdout",
     "output_type": "stream",
     "text": [
      "Epoch [20], val_loss: 17695.7422\n",
      "Epoch [40], val_loss: 17452.6035\n",
      "Epoch [60], val_loss: 17214.8066\n",
      "Epoch [80], val_loss: 16982.3828\n",
      "Epoch [100], val_loss: 16755.7949\n",
      "Epoch [120], val_loss: 16535.0410\n",
      "Epoch [140], val_loss: 16320.0605\n",
      "Epoch [160], val_loss: 16110.9922\n",
      "Epoch [180], val_loss: 15907.9590\n"
     ]
    }
   ],
   "source": [
    "epochs = 180\n",
    "lr = 1e-3\n",
    "history4 = fit(epochs, lr, model, train_loader, val_loader)"
   ]
  },
  {
   "cell_type": "code",
   "execution_count": 169,
   "metadata": {
    "colab": {
     "base_uri": "https://localhost:8080/"
    },
    "executionInfo": {
     "elapsed": 4975,
     "status": "ok",
     "timestamp": 1644325661997,
     "user": {
      "displayName": "Phát Đỗ Phú",
      "photoUrl": "https://lh3.googleusercontent.com/a/default-user=s64",
      "userId": "05669844595672600645"
     },
     "user_tz": -420
    },
    "id": "w8-KPb7JyqKJ",
    "outputId": "2f436d14-ab2b-4885-d5e3-e0995dcacfd0"
   },
   "outputs": [
    {
     "name": "stdout",
     "output_type": "stream",
     "text": [
      "Epoch [20], val_loss: 11082.7637\n",
      "Epoch [40], val_loss: 11087.3135\n",
      "Epoch [60], val_loss: 11090.9473\n",
      "Epoch [80], val_loss: 11093.6133\n",
      "Epoch [100], val_loss: 11095.3145\n",
      "Epoch [120], val_loss: 11096.3604\n",
      "Epoch [140], val_loss: 11097.2480\n",
      "Epoch [160], val_loss: 11097.7285\n",
      "Epoch [180], val_loss: 11098.2539\n",
      "Epoch [200], val_loss: 11098.3594\n"
     ]
    }
   ],
   "source": [
    "epochs = 200\n",
    "lr = 1e-2\n",
    "history5 = fit(epochs, lr, model, train_loader, val_loader)"
   ]
  },
  {
   "cell_type": "code",
   "execution_count": 227,
   "metadata": {
    "colab": {
     "base_uri": "https://localhost:8080/"
    },
    "executionInfo": {
     "elapsed": 604,
     "status": "ok",
     "timestamp": 1644326610728,
     "user": {
      "displayName": "Phát Đỗ Phú",
      "photoUrl": "https://lh3.googleusercontent.com/a/default-user=s64",
      "userId": "05669844595672600645"
     },
     "user_tz": -420
    },
    "id": "nz0WSj-QT_0K",
    "outputId": "cf321f1e-b195-42ec-d91e-8a1e867ec8ec"
   },
   "outputs": [
    {
     "name": "stdout",
     "output_type": "stream",
     "text": [
      "Epoch [10], val_loss: 6176.7212\n"
     ]
    }
   ],
   "source": [
    "epochs = 400\n",
    "lr = 0.1\n",
    "history6 = fit(epochs, lr, model, train_loader, val_loader)"
   ]
  },
  {
   "cell_type": "markdown",
   "metadata": {
    "id": "y_Ixb4RfyqKJ"
   },
   "source": [
    "**Q12: What is the final validation loss of your model?**"
   ]
  },
  {
   "cell_type": "code",
   "execution_count": 221,
   "metadata": {
    "colab": {
     "base_uri": "https://localhost:8080/"
    },
    "executionInfo": {
     "elapsed": 678,
     "status": "ok",
     "timestamp": 1644326545299,
     "user": {
      "displayName": "Phát Đỗ Phú",
      "photoUrl": "https://lh3.googleusercontent.com/a/default-user=s64",
      "userId": "05669844595672600645"
     },
     "user_tz": -420
    },
    "id": "8kydq1SYyqKJ",
    "outputId": "62dc8f17-77c5-472e-d1d1-f84ccc52199a"
   },
   "outputs": [
    {
     "data": {
      "text/plain": [
       "6176.72119140625"
      ]
     },
     "execution_count": 221,
     "metadata": {},
     "output_type": "execute_result"
    }
   ],
   "source": [
    "val_loss = history6[-1]['val_loss']\n",
    "\n",
    "val_loss"
   ]
  },
  {
   "cell_type": "markdown",
   "metadata": {
    "id": "L3L3Ecv6yqKK"
   },
   "source": [
    "Let's log the final validation loss to Jovian and commit the notebook"
   ]
  },
  {
   "cell_type": "code",
   "execution_count": 222,
   "metadata": {
    "colab": {
     "base_uri": "https://localhost:8080/"
    },
    "executionInfo": {
     "elapsed": 562,
     "status": "ok",
     "timestamp": 1644326549043,
     "user": {
      "displayName": "Phát Đỗ Phú",
      "photoUrl": "https://lh3.googleusercontent.com/a/default-user=s64",
      "userId": "05669844595672600645"
     },
     "user_tz": -420
    },
    "id": "9fankIXAyqKK",
    "outputId": "c730965a-0721-4929-b9f0-194129751df1"
   },
   "outputs": [
    {
     "name": "stdout",
     "output_type": "stream",
     "text": [
      "[jovian] Metrics logged.\u001b[0m\n"
     ]
    }
   ],
   "source": [
    "jovian.log_metrics(val_loss=val_loss)"
   ]
  },
  {
   "cell_type": "code",
   "execution_count": 223,
   "metadata": {
    "colab": {
     "base_uri": "https://localhost:8080/",
     "height": 105
    },
    "executionInfo": {
     "elapsed": 3105,
     "status": "ok",
     "timestamp": 1644326553417,
     "user": {
      "displayName": "Phát Đỗ Phú",
      "photoUrl": "https://lh3.googleusercontent.com/a/default-user=s64",
      "userId": "05669844595672600645"
     },
     "user_tz": -420
    },
    "id": "_qk_ocAQyqKK",
    "outputId": "41e3b37b-f7f2-4d8f-cea2-6f43a27418f9"
   },
   "outputs": [
    {
     "name": "stdout",
     "output_type": "stream",
     "text": [
      "[jovian] Detected Colab notebook...\u001b[0m\n",
      "[jovian] Uploading colab notebook to Jovian...\u001b[0m\n",
      "[jovian] Attaching records (metrics, hyperparameters, dataset etc.)\u001b[0m\n",
      "Committed successfully! https://jovian.ai/f2l2804nk/02-insurance-linear-regression\n"
     ]
    },
    {
     "data": {
      "application/vnd.google.colaboratory.intrinsic+json": {
       "type": "string"
      },
      "text/plain": [
       "'https://jovian.ai/f2l2804nk/02-insurance-linear-regression'"
      ]
     },
     "execution_count": 223,
     "metadata": {},
     "output_type": "execute_result"
    }
   ],
   "source": [
    "jovian.commit(project=project_name, environment=None)"
   ]
  },
  {
   "cell_type": "markdown",
   "metadata": {
    "id": "Rjj1dUiSyqKK"
   },
   "source": [
    "Now scroll back up, re-initialize the model, and try different set of values for batch size, number of epochs, learning rate etc. Commit each experiment and use the \"Compare\" and \"View Diff\" options on Jovian to compare the different results."
   ]
  },
  {
   "cell_type": "markdown",
   "metadata": {
    "id": "yyDnsrqPyqKK"
   },
   "source": [
    "## Step 5: Make predictions using the trained model\n",
    "\n",
    "**Q13: Complete the following function definition to make predictions on a single input**"
   ]
  },
  {
   "cell_type": "code",
   "execution_count": 188,
   "metadata": {
    "executionInfo": {
     "elapsed": 565,
     "status": "ok",
     "timestamp": 1644325856861,
     "user": {
      "displayName": "Phát Đỗ Phú",
      "photoUrl": "https://lh3.googleusercontent.com/a/default-user=s64",
      "userId": "05669844595672600645"
     },
     "user_tz": -420
    },
    "id": "inUESHmayqKK"
   },
   "outputs": [],
   "source": [
    "def predict_single(input, target, model):\n",
    "    inputs = input.unsqueeze(0)\n",
    "    predictions = model(input)                # fill this\n",
    "    prediction = predictions[0].detach()\n",
    "    print(\"Input:\", input)\n",
    "    print(\"Target:\", target)\n",
    "    print(\"Prediction:\", prediction)"
   ]
  },
  {
   "cell_type": "code",
   "execution_count": 224,
   "metadata": {
    "colab": {
     "base_uri": "https://localhost:8080/"
    },
    "executionInfo": {
     "elapsed": 9,
     "status": "ok",
     "timestamp": 1644326553418,
     "user": {
      "displayName": "Phát Đỗ Phú",
      "photoUrl": "https://lh3.googleusercontent.com/a/default-user=s64",
      "userId": "05669844595672600645"
     },
     "user_tz": -420
    },
    "id": "WYhOT9OVyqKK",
    "outputId": "f67e8a35-4f3e-4211-9e9f-95380933b96e"
   },
   "outputs": [
    {
     "name": "stdout",
     "output_type": "stream",
     "text": [
      "Input: tensor([18.0000,  0.0000, 41.8912,  0.0000,  0.0000,  0.0000])\n",
      "Target: tensor(2151.0732)\n",
      "Prediction: tensor(5586.9658)\n"
     ]
    }
   ],
   "source": [
    "input, target = val_ds[0]\n",
    "predict_single(input, target, model)"
   ]
  },
  {
   "cell_type": "code",
   "execution_count": 225,
   "metadata": {
    "colab": {
     "base_uri": "https://localhost:8080/"
    },
    "executionInfo": {
     "elapsed": 9,
     "status": "ok",
     "timestamp": 1644326555145,
     "user": {
      "displayName": "Phát Đỗ Phú",
      "photoUrl": "https://lh3.googleusercontent.com/a/default-user=s64",
      "userId": "05669844595672600645"
     },
     "user_tz": -420
    },
    "id": "hhR6X2h3yqKK",
    "outputId": "f57adea1-d2fb-4aef-90aa-680a323ecd82"
   },
   "outputs": [
    {
     "name": "stdout",
     "output_type": "stream",
     "text": [
      "Input: tensor([35.0000,  1.0000, 18.5744,  1.0000,  0.0000,  1.0000])\n",
      "Target: tensor(4963.0054)\n",
      "Prediction: tensor(5750.4697)\n"
     ]
    }
   ],
   "source": [
    "input, target = val_ds[10]\n",
    "predict_single(input, target, model)"
   ]
  },
  {
   "cell_type": "code",
   "execution_count": 226,
   "metadata": {
    "colab": {
     "base_uri": "https://localhost:8080/"
    },
    "executionInfo": {
     "elapsed": 9,
     "status": "ok",
     "timestamp": 1644326556776,
     "user": {
      "displayName": "Phát Đỗ Phú",
      "photoUrl": "https://lh3.googleusercontent.com/a/default-user=s64",
      "userId": "05669844595672600645"
     },
     "user_tz": -420
    },
    "id": "92KEbdghyqKK",
    "outputId": "057a14e7-6971-4576-dca9-d0733bfb497c"
   },
   "outputs": [
    {
     "name": "stdout",
     "output_type": "stream",
     "text": [
      "Input: tensor([23.0000,  1.0000, 43.5864,  0.0000,  0.0000,  2.0000])\n",
      "Target: tensor(1782.1635)\n",
      "Prediction: tensor(5930.0488)\n"
     ]
    }
   ],
   "source": [
    "input, target = val_ds[23]\n",
    "predict_single(input, target, model)"
   ]
  },
  {
   "cell_type": "markdown",
   "metadata": {
    "id": "wP_jp21RyqKL"
   },
   "source": [
    "Are you happy with your model's predictions? Try to improve them further."
   ]
  },
  {
   "cell_type": "markdown",
   "metadata": {
    "id": "GYtZR7Q-yqKL"
   },
   "source": [
    "## (Optional) Step 6: Try another dataset & blog about it\n",
    "\n",
    "While this last step is optional for the submission of your assignment, we highly recommend that you do it. Try to replicate this notebook for a different linear regression or logistic regression problem. This will help solidify your understanding, and give you a chance to differentiate the generic patterns in machine learning from problem-specific details.You can use one of these starer notebooks (just change the dataset):\n",
    "\n",
    "- Linear regression (minimal): https://jovian.ai/aakashns/housing-linear-minimal\n",
    "- Logistic regression (minimal): https://jovian.ai/aakashns/mnist-logistic-minimal\n",
    "\n",
    "Here are some sources to find good datasets:\n",
    "\n",
    "- https://lionbridge.ai/datasets/10-open-datasets-for-linear-regression/\n",
    "- https://www.kaggle.com/rtatman/datasets-for-regression-analysis\n",
    "- https://archive.ics.uci.edu/ml/datasets.php?format=&task=reg&att=&area=&numAtt=&numIns=&type=&sort=nameUp&view=table\n",
    "- https://people.sc.fsu.edu/~jburkardt/datasets/regression/regression.html\n",
    "- https://archive.ics.uci.edu/ml/datasets/wine+quality\n",
    "- https://pytorch.org/docs/stable/torchvision/datasets.html\n",
    "\n",
    "We also recommend that you write a blog about your approach to the problem. Here is a suggested structure for your post (feel free to experiment with it):\n",
    "\n",
    "- Interesting title & subtitle\n",
    "- Overview of what the blog covers (which dataset, linear regression or logistic regression, intro to PyTorch)\n",
    "- Downloading & exploring the data\n",
    "- Preparing the data for training\n",
    "- Creating a model using PyTorch\n",
    "- Training the model to fit the data\n",
    "- Your thoughts on how to experiment with different hyperparmeters to reduce loss\n",
    "- Making predictions using the model\n",
    "\n",
    "As with the previous assignment, you can [embed Juptyer notebook cells & outputs from Jovian](https://medium.com/jovianml/share-and-embed-jupyter-notebooks-online-with-jovian-ml-df709a03064e) into your blog. \n",
    "\n",
    "Don't forget to share your work on the forum: https://jovian.ai/forum/t/linear-regression-and-logistic-regression-notebooks-and-blog-posts/14039"
   ]
  },
  {
   "cell_type": "code",
   "execution_count": 192,
   "metadata": {
    "colab": {
     "base_uri": "https://localhost:8080/",
     "height": 174
    },
    "executionInfo": {
     "elapsed": 6549,
     "status": "ok",
     "timestamp": 1644325963615,
     "user": {
      "displayName": "Phát Đỗ Phú",
      "photoUrl": "https://lh3.googleusercontent.com/a/default-user=s64",
      "userId": "05669844595672600645"
     },
     "user_tz": -420
    },
    "id": "UynjvkibyqKL",
    "outputId": "395b40e3-02ab-4843-db91-4e70d818b72c"
   },
   "outputs": [
    {
     "name": "stdout",
     "output_type": "stream",
     "text": [
      "[jovian] Detected Colab notebook...\u001b[0m\n",
      "[jovian] Uploading colab notebook to Jovian...\u001b[0m\n",
      "[jovian] Attaching records (metrics, hyperparameters, dataset etc.)\u001b[0m\n",
      "Committed successfully! https://jovian.ai/f2l2804nk/02-insurance-linear-regression\n",
      "[jovian] Detected Colab notebook...\u001b[0m\n",
      "[jovian] Uploading colab notebook to Jovian...\u001b[0m\n",
      "[jovian] Attaching records (metrics, hyperparameters, dataset etc.)\u001b[0m\n",
      "Committed successfully! https://jovian.ai/f2l2804nk/02-insurance-linear-regression\n"
     ]
    },
    {
     "data": {
      "application/vnd.google.colaboratory.intrinsic+json": {
       "type": "string"
      },
      "text/plain": [
       "'https://jovian.ai/f2l2804nk/02-insurance-linear-regression'"
      ]
     },
     "execution_count": 192,
     "metadata": {},
     "output_type": "execute_result"
    }
   ],
   "source": [
    "jovian.commit(project=project_name, environment=None)\n",
    "jovian.commit(project=project_name, environment=None) # try again, kaggle fails sometimes"
   ]
  },
  {
   "cell_type": "code",
   "execution_count": null,
   "metadata": {
    "id": "xhDGlpaIyqKM"
   },
   "outputs": [],
   "source": []
  }
 ],
 "metadata": {
  "colab": {
   "name": "02-insurance-linear.ipynb",
   "provenance": []
  },
  "language_info": {
   "codemirror_mode": {
    "name": "ipython",
    "version": 3
   },
   "file_extension": ".py",
   "mimetype": "text/x-python",
   "name": "python",
   "nbconvert_exporter": "python",
   "pygments_lexer": "ipython3",
   "version": "3.9.6"
  },
  "widgets": {
   "application/vnd.jupyter.widget-state+json": {
    "056a3478ad4a4c86a0c9bb382e974ac5": {
     "model_module": "@jupyter-widgets/controls",
     "model_module_version": "1.5.0",
     "model_name": "FloatProgressModel",
     "state": {
      "_dom_classes": [],
      "_model_module": "@jupyter-widgets/controls",
      "_model_module_version": "1.5.0",
      "_model_name": "FloatProgressModel",
      "_view_count": null,
      "_view_module": "@jupyter-widgets/controls",
      "_view_module_version": "1.5.0",
      "_view_name": "ProgressView",
      "bar_style": "success",
      "description": "",
      "description_tooltip": null,
      "layout": "IPY_MODEL_338051c3c2c34d62985547cc59177675",
      "max": 54288,
      "min": 0,
      "orientation": "horizontal",
      "style": "IPY_MODEL_f3b51fb204424f18973afbe9c4333525",
      "value": 54288
     }
    },
    "2c0d2c8d850140f0b1c80e92c189fc99": {
     "model_module": "@jupyter-widgets/controls",
     "model_module_version": "1.5.0",
     "model_name": "HBoxModel",
     "state": {
      "_dom_classes": [],
      "_model_module": "@jupyter-widgets/controls",
      "_model_module_version": "1.5.0",
      "_model_name": "HBoxModel",
      "_view_count": null,
      "_view_module": "@jupyter-widgets/controls",
      "_view_module_version": "1.5.0",
      "_view_name": "HBoxView",
      "box_style": "",
      "children": [
       "IPY_MODEL_e2080a7510f04ab8a9e14559a1303fea",
       "IPY_MODEL_056a3478ad4a4c86a0c9bb382e974ac5",
       "IPY_MODEL_87b50297e6da4158b2951d195f7d80e3"
      ],
      "layout": "IPY_MODEL_d2402af33c2349e0a4299f8cf226a182"
     }
    },
    "338051c3c2c34d62985547cc59177675": {
     "model_module": "@jupyter-widgets/base",
     "model_module_version": "1.2.0",
     "model_name": "LayoutModel",
     "state": {
      "_model_module": "@jupyter-widgets/base",
      "_model_module_version": "1.2.0",
      "_model_name": "LayoutModel",
      "_view_count": null,
      "_view_module": "@jupyter-widgets/base",
      "_view_module_version": "1.2.0",
      "_view_name": "LayoutView",
      "align_content": null,
      "align_items": null,
      "align_self": null,
      "border": null,
      "bottom": null,
      "display": null,
      "flex": null,
      "flex_flow": null,
      "grid_area": null,
      "grid_auto_columns": null,
      "grid_auto_flow": null,
      "grid_auto_rows": null,
      "grid_column": null,
      "grid_gap": null,
      "grid_row": null,
      "grid_template_areas": null,
      "grid_template_columns": null,
      "grid_template_rows": null,
      "height": null,
      "justify_content": null,
      "justify_items": null,
      "left": null,
      "margin": null,
      "max_height": null,
      "max_width": null,
      "min_height": null,
      "min_width": null,
      "object_fit": null,
      "object_position": null,
      "order": null,
      "overflow": null,
      "overflow_x": null,
      "overflow_y": null,
      "padding": null,
      "right": null,
      "top": null,
      "visibility": null,
      "width": null
     }
    },
    "5b1d772664fc456c9d3da39e17fba85b": {
     "model_module": "@jupyter-widgets/controls",
     "model_module_version": "1.5.0",
     "model_name": "DescriptionStyleModel",
     "state": {
      "_model_module": "@jupyter-widgets/controls",
      "_model_module_version": "1.5.0",
      "_model_name": "DescriptionStyleModel",
      "_view_count": null,
      "_view_module": "@jupyter-widgets/base",
      "_view_module_version": "1.2.0",
      "_view_name": "StyleView",
      "description_width": ""
     }
    },
    "703733dba5e54782a23c0f7553d92d23": {
     "model_module": "@jupyter-widgets/base",
     "model_module_version": "1.2.0",
     "model_name": "LayoutModel",
     "state": {
      "_model_module": "@jupyter-widgets/base",
      "_model_module_version": "1.2.0",
      "_model_name": "LayoutModel",
      "_view_count": null,
      "_view_module": "@jupyter-widgets/base",
      "_view_module_version": "1.2.0",
      "_view_name": "LayoutView",
      "align_content": null,
      "align_items": null,
      "align_self": null,
      "border": null,
      "bottom": null,
      "display": null,
      "flex": null,
      "flex_flow": null,
      "grid_area": null,
      "grid_auto_columns": null,
      "grid_auto_flow": null,
      "grid_auto_rows": null,
      "grid_column": null,
      "grid_gap": null,
      "grid_row": null,
      "grid_template_areas": null,
      "grid_template_columns": null,
      "grid_template_rows": null,
      "height": null,
      "justify_content": null,
      "justify_items": null,
      "left": null,
      "margin": null,
      "max_height": null,
      "max_width": null,
      "min_height": null,
      "min_width": null,
      "object_fit": null,
      "object_position": null,
      "order": null,
      "overflow": null,
      "overflow_x": null,
      "overflow_y": null,
      "padding": null,
      "right": null,
      "top": null,
      "visibility": null,
      "width": null
     }
    },
    "87b50297e6da4158b2951d195f7d80e3": {
     "model_module": "@jupyter-widgets/controls",
     "model_module_version": "1.5.0",
     "model_name": "HTMLModel",
     "state": {
      "_dom_classes": [],
      "_model_module": "@jupyter-widgets/controls",
      "_model_module_version": "1.5.0",
      "_model_name": "HTMLModel",
      "_view_count": null,
      "_view_module": "@jupyter-widgets/controls",
      "_view_module_version": "1.5.0",
      "_view_name": "HTMLView",
      "description": "",
      "description_tooltip": null,
      "layout": "IPY_MODEL_d2464b425bf84d8692eb6d11e1d730b9",
      "placeholder": "​",
      "style": "IPY_MODEL_5b1d772664fc456c9d3da39e17fba85b",
      "value": " 55296/? [00:00&lt;00:00, 7579.67it/s]"
     }
    },
    "971551b56b7f4ab688453a9f4ed30c04": {
     "model_module": "@jupyter-widgets/controls",
     "model_module_version": "1.5.0",
     "model_name": "DescriptionStyleModel",
     "state": {
      "_model_module": "@jupyter-widgets/controls",
      "_model_module_version": "1.5.0",
      "_model_name": "DescriptionStyleModel",
      "_view_count": null,
      "_view_module": "@jupyter-widgets/base",
      "_view_module_version": "1.2.0",
      "_view_name": "StyleView",
      "description_width": ""
     }
    },
    "d2402af33c2349e0a4299f8cf226a182": {
     "model_module": "@jupyter-widgets/base",
     "model_module_version": "1.2.0",
     "model_name": "LayoutModel",
     "state": {
      "_model_module": "@jupyter-widgets/base",
      "_model_module_version": "1.2.0",
      "_model_name": "LayoutModel",
      "_view_count": null,
      "_view_module": "@jupyter-widgets/base",
      "_view_module_version": "1.2.0",
      "_view_name": "LayoutView",
      "align_content": null,
      "align_items": null,
      "align_self": null,
      "border": null,
      "bottom": null,
      "display": null,
      "flex": null,
      "flex_flow": null,
      "grid_area": null,
      "grid_auto_columns": null,
      "grid_auto_flow": null,
      "grid_auto_rows": null,
      "grid_column": null,
      "grid_gap": null,
      "grid_row": null,
      "grid_template_areas": null,
      "grid_template_columns": null,
      "grid_template_rows": null,
      "height": null,
      "justify_content": null,
      "justify_items": null,
      "left": null,
      "margin": null,
      "max_height": null,
      "max_width": null,
      "min_height": null,
      "min_width": null,
      "object_fit": null,
      "object_position": null,
      "order": null,
      "overflow": null,
      "overflow_x": null,
      "overflow_y": null,
      "padding": null,
      "right": null,
      "top": null,
      "visibility": null,
      "width": null
     }
    },
    "d2464b425bf84d8692eb6d11e1d730b9": {
     "model_module": "@jupyter-widgets/base",
     "model_module_version": "1.2.0",
     "model_name": "LayoutModel",
     "state": {
      "_model_module": "@jupyter-widgets/base",
      "_model_module_version": "1.2.0",
      "_model_name": "LayoutModel",
      "_view_count": null,
      "_view_module": "@jupyter-widgets/base",
      "_view_module_version": "1.2.0",
      "_view_name": "LayoutView",
      "align_content": null,
      "align_items": null,
      "align_self": null,
      "border": null,
      "bottom": null,
      "display": null,
      "flex": null,
      "flex_flow": null,
      "grid_area": null,
      "grid_auto_columns": null,
      "grid_auto_flow": null,
      "grid_auto_rows": null,
      "grid_column": null,
      "grid_gap": null,
      "grid_row": null,
      "grid_template_areas": null,
      "grid_template_columns": null,
      "grid_template_rows": null,
      "height": null,
      "justify_content": null,
      "justify_items": null,
      "left": null,
      "margin": null,
      "max_height": null,
      "max_width": null,
      "min_height": null,
      "min_width": null,
      "object_fit": null,
      "object_position": null,
      "order": null,
      "overflow": null,
      "overflow_x": null,
      "overflow_y": null,
      "padding": null,
      "right": null,
      "top": null,
      "visibility": null,
      "width": null
     }
    },
    "e2080a7510f04ab8a9e14559a1303fea": {
     "model_module": "@jupyter-widgets/controls",
     "model_module_version": "1.5.0",
     "model_name": "HTMLModel",
     "state": {
      "_dom_classes": [],
      "_model_module": "@jupyter-widgets/controls",
      "_model_module_version": "1.5.0",
      "_model_name": "HTMLModel",
      "_view_count": null,
      "_view_module": "@jupyter-widgets/controls",
      "_view_module_version": "1.5.0",
      "_view_name": "HTMLView",
      "description": "",
      "description_tooltip": null,
      "layout": "IPY_MODEL_703733dba5e54782a23c0f7553d92d23",
      "placeholder": "​",
      "style": "IPY_MODEL_971551b56b7f4ab688453a9f4ed30c04",
      "value": ""
     }
    },
    "f3b51fb204424f18973afbe9c4333525": {
     "model_module": "@jupyter-widgets/controls",
     "model_module_version": "1.5.0",
     "model_name": "ProgressStyleModel",
     "state": {
      "_model_module": "@jupyter-widgets/controls",
      "_model_module_version": "1.5.0",
      "_model_name": "ProgressStyleModel",
      "_view_count": null,
      "_view_module": "@jupyter-widgets/base",
      "_view_module_version": "1.2.0",
      "_view_name": "StyleView",
      "bar_color": null,
      "description_width": ""
     }
    }
   }
  }
 },
 "nbformat": 4,
 "nbformat_minor": 0
}