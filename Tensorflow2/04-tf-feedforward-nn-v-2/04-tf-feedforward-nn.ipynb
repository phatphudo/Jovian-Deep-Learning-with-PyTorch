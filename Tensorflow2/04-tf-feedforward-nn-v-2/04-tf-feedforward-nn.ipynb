{
 "cells": [
  {
   "cell_type": "markdown",
   "metadata": {},
   "source": [
    "# Training Deep Neural Networks on a GPU with Tensorflow\n",
    "\n",
    "This notebook is a tensorflow port of https://jovian.ml/aakashns/04-feedforward-nn\n",
    "\n",
    "Despite the structural differences in Tensorflow and PyTorch, I have tried to port the torch notebooks to tensorflow, which helps in learning both frameworks along with the course [PyTorch: Zero to GANs](https://jovian.ml/aakashns/01-pytorch-basics) by Aakash\n",
    "\n",
    "\n",
    "### Part 4 of \"Tensorflow: Zero to GANs\"\n",
    "\n",
    "*This notebook is the fourth in a series of tutorials on building deep learning models with Tensorflow, an open source neural networks library. Check out the full series:*\n",
    "\n",
    "1. [Tensorflow Basics: Tensors & Gradients](https://jovian.ml/kartik.godawat/01-tensorflow-basics)\n",
    "2. [Linear Regression & Gradient Descent](https://jovian.ml/kartik.godawat/02-tf-linear-regression)\n",
    "3. [Image Classfication using Logistic Regression](https://jovian.ml/kartik.godawat/03-tf-logistic-regression) \n",
    "4. [Training Deep Neural Networks on a GPU](https://jovian.ml/kartik.godawat/04-tf-feedforward-nn)\n",
    "\n",
    "\n",
    "In [the previous tutorial](https://jovian.ml/kartik.godawat/03-tf-logistic-regression), we trained a logistic regression model to identify handwritten digits from the MNIST dataset with an accuracy of around 86%. \n",
    "\n",
    "![](https://cdn-images-1.medium.com/max/1600/1*q2nyeRU8uvjPeKpo_lMXgQ.jpeg)\n",
    "\n",
    "However, we also noticed that it's quite difficult to improve the accuracy beyond 87%, due to the limited power of the model. In this post, we'll try to improve upon it using a *feedforward neural network*. "
   ]
  },
  {
   "cell_type": "markdown",
   "metadata": {},
   "source": [
    "## Preparing the Data\n",
    "\n",
    "The data preparation is identical to the [previous tutorial](https://jovian.ml/kartik.godawat/03-tf-logistic-regression/v/2#C22). We begin by importing the required modules & classes."
   ]
  },
  {
   "cell_type": "code",
   "execution_count": 1,
   "metadata": {},
   "outputs": [],
   "source": [
    "import numpy as np\n",
    "import tensorflow as tf\n",
    "from tensorflow.keras.models import Sequential\n",
    "from tensorflow.keras.layers import Dense, Reshape\n",
    "import tensorflow_datasets as tfds"
   ]
  },
  {
   "cell_type": "markdown",
   "metadata": {},
   "source": [
    "To view the device on which operations are performed, uncomment this line and run"
   ]
  },
  {
   "cell_type": "code",
   "execution_count": 2,
   "metadata": {},
   "outputs": [],
   "source": [
    "# tf.debugging.set_log_device_placement(True)"
   ]
  },
  {
   "cell_type": "code",
   "execution_count": 3,
   "metadata": {},
   "outputs": [],
   "source": [
    "(ds, ds_test), ds_info = tfds.load(\n",
    "    'mnist',\n",
    "    split=['train', 'test'],\n",
    "    as_supervised=True,\n",
    "    with_info=True,\n",
    ")"
   ]
  },
  {
   "cell_type": "code",
   "execution_count": 4,
   "metadata": {},
   "outputs": [],
   "source": [
    "ds = ds.shuffle(buffer_size=100)\n",
    "train_ds = ds.take(50000)\n",
    "val_ds = ds.skip(50000)"
   ]
  },
  {
   "cell_type": "code",
   "execution_count": 5,
   "metadata": {},
   "outputs": [
    {
     "data": {
      "text/plain": [
       "(50000, 10000)"
      ]
     },
     "execution_count": 5,
     "metadata": {},
     "output_type": "execute_result"
    }
   ],
   "source": [
    "len(list(train_ds)), len(list(val_ds))"
   ]
  },
  {
   "cell_type": "code",
   "execution_count": 6,
   "metadata": {},
   "outputs": [],
   "source": [
    "batch_size = 128\n",
    "train_ds = train_ds.batch(batch_size)\n",
    "val_ds = val_ds.batch(batch_size)"
   ]
  },
  {
   "cell_type": "markdown",
   "metadata": {},
   "source": [
    "## Model\n",
    "\n",
    "To improve upon [logistic regression](https://jovian.ml/kartik.godawat/03-tf-logistic-regression), we'll create a neural network with one **hidden layer**. Here's what this means:\n",
    "\n",
    "* Instead of using a single `Dense` layer to transform a batch of inputs (pixel intensities) into a batch of outputs (class probabilities), we'll use two `Dense` layers. \n",
    "\n",
    "* The first layer (also known as the hidden layer) will transform the input matrix of shape `batch_size x 784` into an intermediate output matrix of shape `batch_size x hidden_size`, where `hidden_size` is a preconfigured parameter (e.g. 32 or 64).\n",
    "\n",
    "* The intermediate outputs are then passed into a non-linear *activation function*, which operates on individual elements of the output matrix.\n",
    "\n",
    "* The result of the activation function, which is also of size `batch_size x hidden_size`, is passed into the second layer (also knowns as the output layer), which transforms it into a matrix of size `batch_size x 10`, identical to the output of the logistic regression model.\n",
    "\n",
    "Introducing a hidden layer and an activation function allows the model to learn more complex, multi-layered and non-linear relationships between the inputs and the targets. Here's what it looks like visually:\n",
    "\n",
    "![](https://i.imgur.com/vDOGEkG.png)\n",
    "\n",
    "The activation function we'll use here is called a **Rectified Linear Unit** or **ReLU**, and it has a really simple formula: `relu(x) = max(0,x)` i.e. if an element is negative, we replace it by 0, otherwise we leave it unchanged.\n",
    "\n",
    "We define the model using `Sequential` from keras, just as we did with logistic regression.\n",
    "\n",
    "We'll create a model that contains a hidden layer with 32 activations."
   ]
  },
  {
   "cell_type": "code",
   "execution_count": 7,
   "metadata": {},
   "outputs": [],
   "source": [
    "hidden_size = 32\n",
    "num_classes = 10\n",
    "\n",
    "model = Sequential([\n",
    "    Dense(hidden_size, input_shape=(28*28,), activation=\"relu\"),\n",
    "    Dense(num_classes)\n",
    "])"
   ]
  },
  {
   "cell_type": "markdown",
   "metadata": {},
   "source": [
    "Layers shape can be accessed by viewing `layer.output_shape` and the activation can be verified by looking at `layer.activation`"
   ]
  },
  {
   "cell_type": "code",
   "execution_count": 8,
   "metadata": {},
   "outputs": [
    {
     "name": "stdout",
     "output_type": "stream",
     "text": [
      "(None, 32) <function relu at 0x7f4111cde268>\n",
      "(None, 10) <function linear at 0x7f4111cde510>\n"
     ]
    }
   ],
   "source": [
    "for layer in model.layers:\n",
    "    print(layer.output_shape, layer.activation)"
   ]
  },
  {
   "cell_type": "markdown",
   "metadata": {},
   "source": [
    "Just like we did [before](https://jovian.ml/kartik.godawat/03-tf-logistic-regression/v/2#C60), we reshape the input and batch the dataset, while also normalizing the dataset."
   ]
  },
  {
   "cell_type": "code",
   "execution_count": 9,
   "metadata": {},
   "outputs": [],
   "source": [
    "def mapp(x):\n",
    "    x = x / 255\n",
    "    return tf.reshape(x, [28*28])\n",
    "train_ds = train_ds.unbatch().map(lambda x,y: (mapp(x),y)).batch(batch_size)\n",
    "val_ds = val_ds.unbatch().map(lambda x,y: (mapp(x),y)).batch(batch_size)"
   ]
  },
  {
   "cell_type": "markdown",
   "metadata": {},
   "source": [
    "Let's try and generate some outputs using our model. We'll take the first batch of 128 images from our dataset, and pass them into our model."
   ]
  },
  {
   "cell_type": "code",
   "execution_count": 10,
   "metadata": {},
   "outputs": [
    {
     "name": "stdout",
     "output_type": "stream",
     "text": [
      "outputs.shape :  (128, 10)\n",
      "Sample outputs :\n",
      " tf.Tensor(\n",
      "[[-0.3719551  -0.27709225 -0.37832576  0.30584988 -0.25548273  0.0816628\n",
      "  -0.00279802 -0.01136872 -0.1388574  -0.04742745]\n",
      " [ 0.01267302  0.28078642  0.3635273   0.09322667 -0.04257113  0.5249153\n",
      "   0.03592832  0.55380964 -1.0067574  -0.656198  ]], shape=(2, 10), dtype=float32)\n"
     ]
    }
   ],
   "source": [
    "for images, labels in train_ds:\n",
    "    outputs = model(images)\n",
    "    break\n",
    "print('outputs.shape : ', outputs.shape)\n",
    "print('Sample outputs :\\n', outputs[:2])"
   ]
  },
  {
   "cell_type": "markdown",
   "metadata": {},
   "source": [
    "## Using a GPU\n",
    "\n",
    "As the sizes of our models and datasets increase, we need to use GPUs to train our models within a reasonable amount of time. GPUs contain hundreds of cores that are optimized for performing expensive matrix operations on floating point numbers in a short time, which makes them ideal for training deep neural networks with many layers. You can use GPUs for free on [Kaggle kernels](https://www.kaggle.com/kernels) or [Google Colab](https://colab.research.google.com/), or rent GPU-powered machines on services like [Google Cloud Platform](https://cloud.google.com/gpu/), [Amazon Web Services](https://docs.aws.amazon.com/dlami/latest/devguide/gpu.html) or [Paperspace](https://www.paperspace.com/).\n",
    "\n",
    "We can check if a GPU is available and the required NVIDIA CUDA drivers are installed using `tf.config.list_physical_devices('GPU')`."
   ]
  },
  {
   "cell_type": "code",
   "execution_count": 11,
   "metadata": {},
   "outputs": [
    {
     "data": {
      "text/plain": [
       "[PhysicalDevice(name='/physical_device:GPU:0', device_type='GPU')]"
      ]
     },
     "execution_count": 11,
     "metadata": {},
     "output_type": "execute_result"
    }
   ],
   "source": [
    "tf.config.list_physical_devices('GPU')"
   ]
  },
  {
   "cell_type": "markdown",
   "metadata": {},
   "source": [
    "Note that if a GPU is available, tensorflow automatically will default the model operations on the GPU"
   ]
  },
  {
   "cell_type": "markdown",
   "metadata": {},
   "source": [
    "## Training the Model\n",
    "We can use the exact same training loops from the [logistic regression notebook](https://jovian.ml/kartik.godawat/03-tf-logistic-regression)."
   ]
  },
  {
   "cell_type": "code",
   "execution_count": 12,
   "metadata": {},
   "outputs": [],
   "source": [
    "def accuracy(outputs, labels):\n",
    "    preds = tf.argmax(outputs, axis=1)\n",
    "    return tf.reduce_sum(tf.cast(preds == labels, dtype=tf.int32)) / len(preds)\n",
    "\n",
    "loss_fn = tf.keras.losses.CategoricalCrossentropy()"
   ]
  },
  {
   "cell_type": "code",
   "execution_count": 13,
   "metadata": {},
   "outputs": [],
   "source": [
    "def validation_step(model, x, y):\n",
    "    out = model(x)\n",
    "    out = tf.nn.softmax(out)\n",
    "    loss = loss_fn(out, tf.keras.utils.to_categorical(y, num_classes=num_classes))\n",
    "    acc = accuracy(out, y)\n",
    "    return {'loss': loss, 'acc': acc}\n",
    "\n",
    "def validation_epoch_end(outputs):\n",
    "    batch_losses = [x['loss'] for x in outputs]\n",
    "    epoch_loss = tf.reduce_mean(batch_losses)   # Combine losses\n",
    "    batch_accs = [x['acc'] for x in outputs]\n",
    "    epoch_acc =  tf.reduce_mean(batch_accs)      # Combine accuracies\n",
    "    return {'loss': epoch_loss, 'acc': epoch_acc}"
   ]
  },
  {
   "cell_type": "code",
   "execution_count": 14,
   "metadata": {},
   "outputs": [],
   "source": [
    "def evaluate(model, val_ds):\n",
    "    outputs = []\n",
    "    for x, y in val_ds:\n",
    "        outputs.append(validation_step(model, x, y))\n",
    "    return validation_epoch_end(outputs)\n",
    "\n",
    "def fit(epochs, lr, model, train_ds, val_ds, opt_func=tf.keras.optimizers.SGD):\n",
    "    history = []\n",
    "    optimizer = opt_func(lr)\n",
    "    for epoch in range(epochs):\n",
    "        # Training Phase \n",
    "        for x, y in train_ds:\n",
    "            # Record all operations under GradientTape, so that gradients can be tracked and calculated later\n",
    "            with tf.GradientTape() as tape:\n",
    "                out = model(x)\n",
    "                out = tf.nn.softmax(out)\n",
    "                loss = loss_fn(out, tf.keras.utils.to_categorical(y, num_classes=10))\n",
    "            var_list_fn =  model.trainable_weights\n",
    "            # Compute gradients\n",
    "            grads = tape.gradient(loss, var_list_fn)\n",
    "#             print(grads)\n",
    "            # Apply gradients\n",
    "            optimizer.apply_gradients(zip(grads, var_list_fn))\n",
    "        # Validation phase\n",
    "        result = evaluate(model, train_ds)\n",
    "        print(\"Epoch [{}], train_loss: {:.4f}, train_acc: {:.4f}\".format(epoch, result['loss'], result['acc']))\n",
    "        result = evaluate(model, val_ds)\n",
    "        print(\"Epoch [{}], val_loss: {:.4f}, val_acc: {:.4f}\".format(epoch, result['loss'], result['acc']))\n",
    "        history.append(result)\n",
    "    return history"
   ]
  },
  {
   "cell_type": "code",
   "execution_count": 15,
   "metadata": {},
   "outputs": [
    {
     "data": {
      "text/plain": [
       "{'loss': <tf.Tensor: shape=(), dtype=float32, numpy=14.476842>,\n",
       " 'acc': <tf.Tensor: shape=(), dtype=float64, numpy=0.12450553797468354>}"
      ]
     },
     "execution_count": 15,
     "metadata": {},
     "output_type": "execute_result"
    }
   ],
   "source": [
    "result0 = evaluate(model, val_ds)\n",
    "result0"
   ]
  },
  {
   "cell_type": "markdown",
   "metadata": {},
   "source": [
    "### GPU vs CPU execution\n",
    "In tensorflow, GPU or CPU execution can be controlled by using `tf.device()` blocks. We can either use the fullhand notation or the shorthand notation `/GPU:0` or `/CPU:0` indicating the first GPU or the CPU in the machine. \n",
    "\n",
    "Note that just like GPU, `/CPU:0` refers to entire physical CPU device and not one core of the CPU."
   ]
  },
  {
   "cell_type": "markdown",
   "metadata": {},
   "source": [
    "Since tf uses GPU by default if available, we don't need to set this block explicitly everytime, but if needed, we can still go ahead and use it"
   ]
  },
  {
   "cell_type": "code",
   "execution_count": 16,
   "metadata": {},
   "outputs": [
    {
     "name": "stdout",
     "output_type": "stream",
     "text": [
      "Epoch [0], train_loss: 12.7477, train_acc: 0.3773\n",
      "Epoch [0], val_loss: 12.7319, val_acc: 0.3830\n",
      "Epoch [1], train_loss: 9.2203, train_acc: 0.4996\n",
      "Epoch [1], val_loss: 9.1994, val_acc: 0.5045\n",
      "Epoch [2], train_loss: 7.5427, train_acc: 0.6166\n",
      "Epoch [2], val_loss: 7.5261, val_acc: 0.6198\n",
      "Epoch [3], train_loss: 6.6824, train_acc: 0.6567\n",
      "Epoch [3], val_loss: 6.6122, val_acc: 0.6623\n",
      "Epoch [4], train_loss: 5.8708, train_acc: 0.7043\n",
      "Epoch [4], val_loss: 5.8282, val_acc: 0.7085\n"
     ]
    }
   ],
   "source": [
    "with tf.device('/GPU:0'):\n",
    "    history = fit(5, 0.001, model, train_ds, val_ds)"
   ]
  },
  {
   "cell_type": "markdown",
   "metadata": {},
   "source": [
    "Now let's try training for a couple more epochs, this time on a CPU"
   ]
  },
  {
   "cell_type": "code",
   "execution_count": 17,
   "metadata": {},
   "outputs": [
    {
     "name": "stdout",
     "output_type": "stream",
     "text": [
      "Epoch [0], train_loss: 5.4913, train_acc: 0.7145\n",
      "Epoch [0], val_loss: 5.4839, val_acc: 0.7144\n",
      "Epoch [1], train_loss: 5.2492, train_acc: 0.7219\n",
      "Epoch [1], val_loss: 5.2195, val_acc: 0.7222\n",
      "Epoch [2], train_loss: 5.0862, train_acc: 0.7258\n",
      "Epoch [2], val_loss: 5.0862, val_acc: 0.7260\n",
      "Epoch [3], train_loss: 4.9617, train_acc: 0.7290\n",
      "Epoch [3], val_loss: 4.9126, val_acc: 0.7327\n",
      "Epoch [4], train_loss: 4.8642, train_acc: 0.7319\n",
      "Epoch [4], val_loss: 4.8052, val_acc: 0.7345\n",
      "Epoch [5], train_loss: 4.7890, train_acc: 0.7336\n",
      "Epoch [5], val_loss: 4.7623, val_acc: 0.7341\n",
      "Epoch [6], train_loss: 4.7238, train_acc: 0.7354\n",
      "Epoch [6], val_loss: 4.6766, val_acc: 0.7367\n",
      "Epoch [7], train_loss: 4.6720, train_acc: 0.7367\n",
      "Epoch [7], val_loss: 4.6415, val_acc: 0.7373\n",
      "Epoch [8], train_loss: 4.6234, train_acc: 0.7382\n",
      "Epoch [8], val_loss: 4.6268, val_acc: 0.7371\n",
      "Epoch [9], train_loss: 4.5820, train_acc: 0.7394\n",
      "Epoch [9], val_loss: 4.5617, val_acc: 0.7404\n",
      "Epoch [10], train_loss: 4.5479, train_acc: 0.7403\n",
      "Epoch [10], val_loss: 4.5150, val_acc: 0.7419\n",
      "Epoch [11], train_loss: 4.5162, train_acc: 0.7417\n",
      "Epoch [11], val_loss: 4.5038, val_acc: 0.7416\n",
      "Epoch [12], train_loss: 4.4871, train_acc: 0.7424\n",
      "Epoch [12], val_loss: 4.4814, val_acc: 0.7422\n",
      "Epoch [13], train_loss: 4.4622, train_acc: 0.7432\n",
      "Epoch [13], val_loss: 4.4566, val_acc: 0.7423\n",
      "Epoch [14], train_loss: 4.4381, train_acc: 0.7441\n",
      "Epoch [14], val_loss: 4.4307, val_acc: 0.7437\n"
     ]
    }
   ],
   "source": [
    "with tf.device('/CPU:0'):\n",
    "    history += fit(15, 0.001, model, train_ds, val_ds)"
   ]
  },
  {
   "cell_type": "markdown",
   "metadata": {},
   "source": [
    "If you're unsure if behind the scenes it actually used a CPU this time, restarting the notebook by uncommenting `tf.debugging.set_log_device_placement(True)` and executing can be used to debug the placement of the operations and the model itself."
   ]
  },
  {
   "cell_type": "markdown",
   "metadata": {},
   "source": [
    "Did you note that GPU speed seems comparable to that of CPU? That is because our model has only two dense layer and very limited number of operations to perform. However, as the model and the computations become increasingly complex, GPU benchmarks start to outshine CPU speed."
   ]
  },
  {
   "cell_type": "markdown",
   "metadata": {},
   "source": [
    "We can now plot the losses & accuracies to study how the model improves over time."
   ]
  },
  {
   "cell_type": "code",
   "execution_count": 18,
   "metadata": {},
   "outputs": [],
   "source": [
    "import matplotlib.pyplot as plt\n",
    "%matplotlib inline"
   ]
  },
  {
   "cell_type": "code",
   "execution_count": 19,
   "metadata": {},
   "outputs": [
    {
     "data": {
      "image/png": "[encoded data removed]",
      "text/plain": [
       "<Figure size 432x288 with 1 Axes>"
      ]
     },
     "metadata": {
      "needs_background": "light"
     },
     "output_type": "display_data"
    }
   ],
   "source": [
    "losses = [x['loss'] for x in history]\n",
    "plt.plot(losses, '-x')\n",
    "plt.xlabel('epoch')\n",
    "plt.ylabel('loss')\n",
    "plt.title('Loss vs. No. of epochs');"
   ]
  },
  {
   "cell_type": "code",
   "execution_count": 20,
   "metadata": {},
   "outputs": [
    {
     "data": {
      "image/png": "[encoded data removed]",
      "text/plain": [
       "<Figure size 432x288 with 1 Axes>"
      ]
     },
     "metadata": {
      "needs_background": "light"
     },
     "output_type": "display_data"
    }
   ],
   "source": [
    "accuracies = [x['acc'] for x in history]\n",
    "plt.plot(accuracies, '-x')\n",
    "plt.xlabel('epoch')\n",
    "plt.ylabel('accuracy')\n",
    "plt.title('Accuracy vs. No. of epochs');"
   ]
  },
  {
   "cell_type": "markdown",
   "metadata": {},
   "source": [
    "## Commit and upload the notebook\n",
    "\n",
    "As a final step, we can save and commit our work using the jovian library."
   ]
  },
  {
   "cell_type": "code",
   "execution_count": 21,
   "metadata": {},
   "outputs": [
    {
     "name": "stdout",
     "output_type": "stream",
     "text": [
      "\u001b[33mWARNING: You are using pip version 20.0.2; however, version 20.1.1 is available.\r\n",
      "You should consider upgrading via the '/home/d/envs/tftwo/bin/python3.6 -m pip install --upgrade pip' command.\u001b[0m\r\n"
     ]
    }
   ],
   "source": [
    "!pip install jovian --upgrade -q"
   ]
  },
  {
   "cell_type": "code",
   "execution_count": null,
   "metadata": {},
   "outputs": [
    {
     "data": {
      "application/javascript": [
       "window.require && require([\"base/js/namespace\"],function(Jupyter){Jupyter.notebook.save_checkpoint()})"
      ],
      "text/plain": [
       "<IPython.core.display.Javascript object>"
      ]
     },
     "metadata": {},
     "output_type": "display_data"
    },
    {
     "name": "stdout",
     "output_type": "stream",
     "text": [
      "[jovian] Attempting to save notebook..\u001b[0m\n"
     ]
    }
   ],
   "source": [
    "import jovian\n",
    "jovian.commit(filename='04-tf-feedforward-nn', environment=None)"
   ]
  },
  {
   "cell_type": "code",
   "execution_count": null,
   "metadata": {},
   "outputs": [],
   "source": []
  }
 ],
 "metadata": {
  "language_info": {
   "codemirror_mode": {
    "name": "ipython",
    "version": 3
   },
   "file_extension": ".py",
   "mimetype": "text/x-python",
   "name": "python",
   "nbconvert_exporter": "python",
   "pygments_lexer": "ipython3",
   "version": "3.6.9"
  }
 },
 "nbformat": 4,
 "nbformat_minor": 4
}